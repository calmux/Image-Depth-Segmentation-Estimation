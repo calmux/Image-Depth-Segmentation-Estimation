{
  "nbformat": 4,
  "nbformat_minor": 0,
  "metadata": {
    "colab": {
      "name": "Depth Prediction Loss Comparison.ipynb",
      "provenance": [],
      "collapsed_sections": [],
      "toc_visible": true,
      "machine_shape": "hm"
    },
    "kernelspec": {
      "name": "python3",
      "display_name": "Python 3"
    },
    "accelerator": "GPU"
  },
  "cells": [
    {
      "cell_type": "markdown",
      "metadata": {
        "id": "-WfNbKdvZ0Yp",
        "colab_type": "text"
      },
      "source": [
        "# Download the Dataset\n",
        "\n",
        "Download the dataset from this link: https://www.kaggle.com/shanwizard/modest-museum-dataset\n",
        "\n",
        "## Dataset Description\n",
        "\n",
        "Description of the contents of the dataset can be found here: https://shan18.github.io/MODEST-Museum-Dataset"
      ]
    },
    {
      "cell_type": "markdown",
      "metadata": {
        "id": "fMsMe9ezze7p",
        "colab_type": "text"
      },
      "source": [
        "### Mount Google Drive (Works only on Google Colab)\n",
        "\n",
        "For running the notebook on Google Colab, upload the dataset into you Google Drive and execute the two cells below"
      ]
    },
    {
      "cell_type": "code",
      "metadata": {
        "id": "_Q-ZyF5zjEPU",
        "colab_type": "code",
        "outputId": "5fd343ac-8089-4791-daa1-494f8fbce047",
        "colab": {
          "base_uri": "https://localhost:8080/",
          "height": 125
        }
      },
      "source": [
        "from google.colab import drive\n",
        "drive.mount('/content/gdrive')"
      ],
      "execution_count": 0,
      "outputs": [
        {
          "output_type": "stream",
          "text": [
            "Go to this URL in a browser: https://accounts.google.com/o/oauth2/auth?client_id=947318989803-6bn6qk8qdgf4n4g3pfee6491hc0brc4i.apps.googleusercontent.com&redirect_uri=urn%3aietf%3awg%3aoauth%3a2.0%3aoob&response_type=code&scope=email%20https%3a%2f%2fwww.googleapis.com%2fauth%2fdocs.test%20https%3a%2f%2fwww.googleapis.com%2fauth%2fdrive%20https%3a%2f%2fwww.googleapis.com%2fauth%2fdrive.photos.readonly%20https%3a%2f%2fwww.googleapis.com%2fauth%2fpeopleapi.readonly\n",
            "\n",
            "Enter your authorization code:\n",
            "··········\n",
            "Mounted at /content/gdrive\n"
          ],
          "name": "stdout"
        }
      ]
    },
    {
      "cell_type": "markdown",
      "metadata": {
        "id": "PxaRo2DkZcNu",
        "colab_type": "text"
      },
      "source": [
        "Unzip the data from Google Drive into Colab"
      ]
    },
    {
      "cell_type": "code",
      "metadata": {
        "id": "FX2zEVIXdSZp",
        "colab_type": "code",
        "colab": {}
      },
      "source": [
        "!unzip -qq '/content/gdrive/My Drive/modest_museum_dataset.zip' -d ."
      ],
      "execution_count": 0,
      "outputs": []
    },
    {
      "cell_type": "markdown",
      "metadata": {
        "id": "im9L6a37x35d",
        "colab_type": "text"
      },
      "source": [
        "### Check GPU"
      ]
    },
    {
      "cell_type": "code",
      "metadata": {
        "id": "OAzuVm9eZZBk",
        "colab_type": "code",
        "outputId": "2072b05c-4160-4af4-a1aa-daafa45d5c5b",
        "colab": {
          "base_uri": "https://localhost:8080/",
          "height": 318
        }
      },
      "source": [
        "!nvidia-smi"
      ],
      "execution_count": 0,
      "outputs": [
        {
          "output_type": "stream",
          "text": [
            "Sun May 24 19:09:44 2020       \n",
            "+-----------------------------------------------------------------------------+\n",
            "| NVIDIA-SMI 440.82       Driver Version: 418.67       CUDA Version: 10.1     |\n",
            "|-------------------------------+----------------------+----------------------+\n",
            "| GPU  Name        Persistence-M| Bus-Id        Disp.A | Volatile Uncorr. ECC |\n",
            "| Fan  Temp  Perf  Pwr:Usage/Cap|         Memory-Usage | GPU-Util  Compute M. |\n",
            "|===============================+======================+======================|\n",
            "|   0  Tesla P100-PCIE...  Off  | 00000000:00:04.0 Off |                    0 |\n",
            "| N/A   32C    P0    28W / 250W |      0MiB / 16280MiB |      0%      Default |\n",
            "+-------------------------------+----------------------+----------------------+\n",
            "                                                                               \n",
            "+-----------------------------------------------------------------------------+\n",
            "| Processes:                                                       GPU Memory |\n",
            "|  GPU       PID   Type   Process name                             Usage      |\n",
            "|=============================================================================|\n",
            "|  No running processes found                                                 |\n",
            "+-----------------------------------------------------------------------------+\n"
          ],
          "name": "stdout"
        }
      ]
    },
    {
      "cell_type": "markdown",
      "metadata": {
        "id": "NrjhHwyGhDkL",
        "colab_type": "text"
      },
      "source": [
        "# Install Packages"
      ]
    },
    {
      "cell_type": "code",
      "metadata": {
        "id": "FpnEKejhGYOV",
        "colab_type": "code",
        "colab": {}
      },
      "source": [
        "!pip install -r requirements.txt"
      ],
      "execution_count": 0,
      "outputs": []
    },
    {
      "cell_type": "markdown",
      "metadata": {
        "id": "NpMD_RLnhAFp",
        "colab_type": "text"
      },
      "source": [
        "# Import Packages"
      ]
    },
    {
      "cell_type": "code",
      "metadata": {
        "id": "YirjGgAQ-1nI",
        "colab_type": "code",
        "colab": {}
      },
      "source": [
        "%matplotlib inline\n",
        "\n",
        "import random\n",
        "import matplotlib.pyplot as plt\n",
        "import torch\n",
        "\n",
        "from tensornet.data import MODESTMuseum\n",
        "from tensornet.utils import initialize_cuda, plot_metric\n",
        "from tensornet.model import DSResNetv1\n",
        "from tensornet.model.optimizer import sgd\n",
        "from tensornet.engine.ops import ModelCheckpoint, TensorBoard\n",
        "from tensornet.engine.ops.lr_scheduler import reduce_lr_on_plateau\n",
        "from loss import RmseBceDiceLoss, SsimDiceLoss, RmseBceLoss\n",
        "from learner import ModelLearner"
      ],
      "execution_count": 0,
      "outputs": []
    },
    {
      "cell_type": "markdown",
      "metadata": {
        "id": "Ve_XDp27GSN_",
        "colab_type": "text"
      },
      "source": [
        "## Set Seed and Get GPU Availability"
      ]
    },
    {
      "cell_type": "code",
      "metadata": {
        "id": "4b0ox87Bf_Kw",
        "colab_type": "code",
        "outputId": "001175ca-c4e3-4961-cc25-2ad00600b3e7",
        "colab": {
          "base_uri": "https://localhost:8080/",
          "height": 34
        }
      },
      "source": [
        "# Initialize CUDA and set random seed\n",
        "cuda, device = initialize_cuda(1)"
      ],
      "execution_count": 0,
      "outputs": [
        {
          "output_type": "stream",
          "text": [
            "GPU Available? True\n"
          ],
          "name": "stdout"
        }
      ]
    },
    {
      "cell_type": "markdown",
      "metadata": {
        "id": "cKi2t8X-CKJ5",
        "colab_type": "text"
      },
      "source": [
        "## Setup Dataset\n",
        "\n",
        "Using the MODESTMuseum class to setup dataset and create data loader"
      ]
    },
    {
      "cell_type": "code",
      "metadata": {
        "id": "stX-V14hhaOm",
        "colab_type": "code",
        "colab": {}
      },
      "source": [
        "DATASET_PATH = 'modest_museum_dataset'"
      ],
      "execution_count": 0,
      "outputs": []
    },
    {
      "cell_type": "code",
      "metadata": {
        "id": "KtiTwFFtAXMm",
        "colab_type": "code",
        "outputId": "b1a04c8c-4739-438e-cdf5-12dda60c2c27",
        "colab": {
          "base_uri": "https://localhost:8080/",
          "height": 52
        }
      },
      "source": [
        "%%time\n",
        "dataset = MODESTMuseum(\n",
        "    train_batch_size=128,\n",
        "    val_batch_size=128,\n",
        "    cuda=cuda,\n",
        "    num_workers=16,\n",
        "    path='modest_museum_dataset',\n",
        "    resize=(96, 96)\n",
        ")"
      ],
      "execution_count": 0,
      "outputs": [
        {
          "output_type": "stream",
          "text": [
            "CPU times: user 6.34 s, sys: 493 ms, total: 6.83 s\n",
            "Wall time: 6.84 s\n"
          ],
          "name": "stdout"
        }
      ]
    },
    {
      "cell_type": "markdown",
      "metadata": {
        "id": "jugzRPudr2MW",
        "colab_type": "text"
      },
      "source": [
        "## Data Visualization"
      ]
    },
    {
      "cell_type": "code",
      "metadata": {
        "id": "RUusUZ9emk2M",
        "colab_type": "code",
        "outputId": "5917035f-ecc2-47d5-e50e-887f61e71d6c",
        "colab": {
          "base_uri": "https://localhost:8080/",
          "height": 617
        }
      },
      "source": [
        "# Set number of data-points to display\n",
        "num_images = 4\n",
        "\n",
        "# Display images with labels\n",
        "fig, axs = plt.subplots(4, 4, figsize=(8, 8))\n",
        "fig.tight_layout()\n",
        "\n",
        "for i in range(num_images):\n",
        "    idx = random.randint(0, len(dataset.val_data))\n",
        "\n",
        "    # Background\n",
        "    axs[i][0].axis('off')\n",
        "    axs[i][0].set_title('bg')\n",
        "    axs[i][0].imshow(dataset.unnormalize(\n",
        "        dataset.val_data[idx][0]['bg'],\n",
        "        transpose=True, data_type='bg'\n",
        "    ))\n",
        "\n",
        "    # Background-Foreground\n",
        "    axs[i][1].axis('off')\n",
        "    axs[i][1].set_title('bg_fg')\n",
        "    axs[i][1].imshow(dataset.unnormalize(\n",
        "        dataset.val_data[idx][0]['bg_fg'],\n",
        "        transpose=True, data_type='bg_fg'\n",
        "    ))\n",
        "\n",
        "    # Mask\n",
        "    axs[i][2].axis('off')\n",
        "    axs[i][2].set_title('mask')\n",
        "    axs[i][2].imshow(dataset.unnormalize(\n",
        "        dataset.val_data[idx][1]['bg_fg_mask'],\n",
        "        transpose=True, data_type='bg_fg_mask'\n",
        "    ).squeeze(), cmap='gray')\n",
        "\n",
        "    # Depth Map\n",
        "    axs[i][3].axis('off')\n",
        "    axs[i][3].set_title('depth map')\n",
        "    axs[i][3].imshow(dataset.unnormalize(\n",
        "        dataset.val_data[idx][1]['bg_fg_depth_map'],\n",
        "        transpose=True, data_type='bg_fg_depth_map'\n",
        "    ).squeeze(), cmap='gray')"
      ],
      "execution_count": 0,
      "outputs": [
        {
          "output_type": "stream",
          "text": [
            "Clipping input data to the valid range for imshow with RGB data ([0..1] for floats or [0..255] for integers).\n",
            "Clipping input data to the valid range for imshow with RGB data ([0..1] for floats or [0..255] for integers).\n",
            "Clipping input data to the valid range for imshow with RGB data ([0..1] for floats or [0..255] for integers).\n"
          ],
          "name": "stderr"
        },
        {
          "output_type": "display_data",
          "data": {
            "image/png": "iVBORw0KGgoAAAANSUhEUgAAAhMAAAIjCAYAAAC52ZmJAAAABHNCSVQICAgIfAhkiAAAAAlwSFlzAAALEgAACxIB0t1+/AAAADh0RVh0U29mdHdhcmUAbWF0cGxvdGxpYiB2ZXJzaW9uMy4yLjEsIGh0dHA6Ly9tYXRwbG90bGliLm9yZy+j8jraAAAgAElEQVR4nOy9ebRl2V3f9/ntfYY7vrGmrq6qnjS2hKTWbFnGAkQHC1kiBoGI7SixFKQkLFgIRVmsELADGMessAgxrHg5BAe04iWwLWPMJOMAcgABHakFUgtJPXcNXfN7745n2Hvnj332fefeeu9VVXd1TX2+a72q++6Z9jnn9/b+7t/v+/ttcc7RoEGDBg0aNGjwXKFudAMaNGjQoEGDBrc2GjLRoEGDBg0aNHheaMhEgwYNGjRo0OB5oSETDRo0aNCgQYPnhYZMNGjQoEGDBg2eFxoy0aBBgwYNGjR4XrilyYSIPCki77zR7Whw8+Ba24SItEXk10VkU0R+9Vqdt8GLByLyDhE5fqPb0WB3iMg/F5Eff4HO/fdF5BMvxLlvJtzSZKJBg+uA7wAOAuvOuffd6MY0aNDg5sWLmTg2ZKJBg71xF/BV51x5oxvSoEGDBjcrbgcy8SYReURELorIL4pIC0BEPi4ip0TkpIh8SESciLzkRje2wXXBNbEJEfkHwI8A3yUiQxH5oIhoEflfROSciDwhIt9bnSe6XjfX4NqiCo39dyLy5yIyEpFfEJGDIvJbIjIQkd8VkdVq318VkWersNdnRORVtfO8q7K7gYicEJGP7XK976v2O3K97rHBPETkARH5XPWuPgm0Fra/W0QeFpENEfkjEXlNbduTIvJDi32MiHSB3wIOV/3FUEQOV4clIvJL1fW+JCJv3KNtTkT+GxH5WrX/j4nIfVU7tkTkV0QkqfZdFZF/JyJnq7b8u7pdicjvi8hPisifVsf+moisXctnOYNz7pb9AZ4EvggcBdaAPwR+HPgW4FngVUAH+ATggJfc6DY3P7eWTQB/H/hE7fePAI8AR4BV4Her80Q3+t6bn+dlM5/Fh7PuBM4AnwMewA8y/w/wo9W+fw/oAynwM8DDtfOcAv5a9XkVeH31+R3A8erzj1Tn3n+j7/vF+gMkwFPADwAxPpRZAD9ebX+gsoG3ABr4QGUjac1eLuljFt917Xp/H5gC76rO95PAZ/donwN+DViq+qsM+A/AvcBy1f98oNp3Hfj2qk/rA78K/JvauX4fOAG8GugC/6ren13Ln9vBM/FPnHPPOOcuAD8BfDfwncAvOue+5Jwb419mgxcPXkib+E7gf3XOHXfOXQT+0TVpcYMbjf/NOXfaOXcC+I/AnzjnPu+cmwKfwg8wOOf+T+fcwDmX4W3otSKyXJ2jAO4XkSXn3EXn3Odq5xcR+WngQeAbnHNnr9eNNbgEb8WTiJ9xzhXOuX8J/Flt+/cA/9Q59yfOOeOc+7/wA/pba/vs1Mfshf/XOfebzjkD/DLw2svs/4+dc1vOuS/hicunnXOPO+c28d6PYI/nnXP/yjk3ds4Nqrb89YVz/bJz7ovOuRHwPwLfKSL6Mte/atwOZOKZ2uengMPVzzO77NPg9scLaRONbd2eOF37PNnh914V4vpHIvKYiGzhZ6gA+6r/vx0/+3xKRP5ARP5K7Rwr+EHqJ6sBocGNw2HghKum7hWeqn2+C/jBKsSxISIbeC/E4do+O/Uxe+HZ2ucx0LpMaPSy9gggIh0R+aci8lRlk58BVhbIwmJbY7Zt9prhdiATR2ufjwEn8e7GI7vs0+D2xwtpE41tvXjxnwHvBd6JdzffXX0vAM65P3POvRc4APwb4Fdqx14E3g38ooj81evV4AY74hRwp4hI7btjtc/PAD/hnFup/XScc/+its9OfQz4EMX1xA8CLwfe4pxbAr6++r5+b4ttLYBz17ohtwOZ+G9F5EglKvkfgE/i/4j/SxF5pYh08K6dBi8evJA28SvA94vInSKyAvz316bJDW4B9PHu7vP4GPU/DBtEJBGRvy0iy865AtgCbP1g59zvA38b+Nci8ubr1uoGi/hjoAS+T0RiEflbQP19/DPgIyLyFvHoisi3iki/ts9OfQx4D8J6LfT1QqOP91RsVG350R32+Tsicn/V7/1PwL+swi3XFLcDmfi/gU8DjwOP4YUwvwX8LPB7wKN4cRX4jqDB7Y8X0ib+WXXuPwc+D/wmvmO65n+cDW46/BLeTXwCL4L77ML2vws8WbmbP4InDnNwzv17vIjz10Xk9S9scxvsBOdcDvwt4L8ALgDfBfzr2vaHgP8K+Cd4j9Kj1b51XNLHVMf+JfAvgMerEMnlwh/PFz8DtPGehs8Cv73DPr8M/HN8qKUFfN8L0RCZDxvdnhCRV+JFLKlr6gU04NrZhIj8DeB/d87ddc0a16BBg5sWIvIk8CHn3O/e6LZcDiLy+/jsjf/jhb7W7eCZ2BEi8p+KSFrlh//PwK83ROLFjWthE+LLa79LRCIRuRPvVvzUC9HeBg0aNLhVcNuSCeDD+Fzhx/Au6P/6xjanwU2AHW2iKiIz3OHnEjc1Xtj0D/Duz88DX8bXDmjQoEGDFy1eFGGOBg0aNGjQoMELh9vZM9GgQYMGDRo0uA5oyESDBg0aNGjQ4Hlhz8WJjhy9xznrECUsLS2RJAkwv56HtT6VOvxvjMVW+4gIszBKVR9kOp2gNaRJxD13H+Xuu47yl498ldEwI8sKWu02URRhnMU4i7XV9QCH4FBYxFcGsa66pkEphTGG0WiENRbJJ6gkRcdtjHU4k6OxYC2FFbAW5xyT0Rixzlf4EIfDoFstOquroBQ4gXCfVdl0hUVcaJHF5DlxHKOUYjqdsrW1RRxFJN0OWmuccyRRRDbNUCKICMYKzvnntlCXnQsXjtcLjtxyOHL0Hhfe/wtiN3cd4Z57jvHlL36F0Sgnz0uSNCWO473tRvwzvxF2I5WtCCBYcI3d1CEiTbz1BsA5d8vazH333efG4zFpmpJlu2d4a71dDFJE0FoTRRFa69nvSl06r3bOkWUZZek12vv27WN5eXlu37Ctfi1jDMaYuevuhCiKSNOUNE3RWs/aVZYlxhiKosBaO/s9tGkymTAejymKYratLMtZX1qHUoooimZty7KMoihmfV+9bpcxhp1kD1EUzfoppRRf/vKXd7SZPcmE74wd7NB5Oarvqs7SOlsdY7HOjwHOsd0450Cg1W7RShOy6Rglmum04OyZczz55HHuvfc+4iienQvCWCJhHJ+DKMEaSxRFWGuZTCb+egJRHBOlKcYBSrBGiJRQFCU4TVEUOGNnA5tSikhHWFGoOMbNHrK/f5ywUIPGvyzR6KSFKf2ANB5PiJOUdqeD1dXwIY5pXqKU9oMZsstiKZbbQcLinKsem3uB7CZiMik4d+4iTzz+NHffcw+9fn/uD2FHuwn85Erspiogd63sxjErk4gDdGM3DRo8L4RBVGt9yaAeMF/kcptMhIEzbF8ciJ1zGGOYTqfkeY61ln379mGtRSpiD9BqteZIw16kJgzq4dyBQNSJRNhWRyA9oc8J+5dlOXfOOsmp309ZljjnZvcRnl0URXPH1K+7Uxsuh8uSiXqDWq0UY2x9h9kNbndsVR+6OPoLCIIAzjpWV9dREnHq5GmGwzHOOYq88ORldqjMzikiiBJKWzsh27NYYwxZls1uWkeRn+lWtqS0wjpvCApFVhqKvPAPIY79ACOQdDqk3R6mGoywDmyY/blZ04KJlsagnDAYjsjyjHanQ9JKMVW7/ZhQm5c6P8ud3UVt8LTW7cgubznUXvsLYTeiNCdPnGYwGOLw795ZWztKZsRFmLcbqR74Ze3GuxOukd0QztjYTYMG1xDh73dx8AsI5CEg/M2HiURAFEWzPiH0TWVZznkHgNnsPAzCzrlLiEwURTMPQx3By2GModPpzLU/iqI5ghHuJ+wfyE9ZlkynU7IsYzqdYq2d/dRhrcUYM/d9nQg555hOp3PH1J/TInkIbdyLVFyxZsLfzLyrGpgNBP4zwC5LlNrtmSlAHCVkWcmzp84xmeQoUehovqGh4xWZebvn4BwzN/VwOKTT6TCdTtm3bx9RGoP4Yck6h3WO0hrQinyaYQrP6nSs0UmExRElMZ3ekvdkOHBOwCnEqaotQhgrwgy7LAo2Lm5QliW9fp8oSSkdGBHvVkf8AIE/p4Xq3NsDweIzveUhzF7ennZT7R4o2pXaTZ4ZTj9bsxut5wwkfBR2thuuu91webtJG7tp0OBqsZtH4mpR/zuqE4miKGbeBqXUzEvwXBG8KUVR7LnPYtsWPwdiEcjCTl6JOI4REfI89x7ViiTtRrwuh528JnXs6ZlYPNHMTSwyYz2zm9v5qHnXMxoBirJkY2ODaZKysbHJZDyZvaj5GSYoJbNZ6+IrFMDabYY1nkzo9/sMBgOi8GxV1bmLj8sXZYHNSx+DBpTSGGtptdv0lvoUgLEOUJWHPbi0HFQxb5y/76IoGA9HiIVer49EESXOh8sl+E58I6w4xAE2xO2Nd+3XmOWiq+p2wHW3m+CJ2sNu4Bawm+B+Fbw+50VmNw0aXA/UQw51BI9B0Be0Wq3n9TcWSETwNAyHQ+I43nX/cN08z2dtrA/mi7qzRS9E2CfP8zl9xF5E6LmSjIDLkAmpGuUvVJQl1pp5d5BzC531/G/hBr13wbsYyrLEWUeRFURRTKfboyxy7z7S2neQ1TAjoXel6twr93OY/GZZRp5noDT9bhelFZPxBKcs6Gg2WKkoosj9AJLi2aXS2ruo04Te8hLWVUF7UT7kPRsHfbv9NX2nnmcZ4/GQVpySm5y8KIi1wqkgy3TVEFiFWiofftAR4CzWWB/vxj+bKIpmYsVbGfWJ8g2zG3a2m3DOm95unKvsxr1o7KZBg6vBXh65uh7iSrYHLUKA1po0TWchhrpQ8ko8gTvtUw9dlGU5F16tI0wS9tIw1LfvdK2yLBmNRhRFMRN6Xg67CTDr9xQ0GjthTzKxLRtzvgMTAaWrwSEI53a6+E4ubd9RIoLEMVGSMBqN0K2I2LaIyxhRiqzIUVGEKFUp52NwgnVhNutQ4oV1YjPG2RCbRDhRqHZMUhqKcsJEDEutFSbjglhFTMYTBoMhkRacNiiVUFhHp79Ma7lHJiXOWb9kkwNnLaIEp53/yjnEgLaGfDImm05opQmtOMXllahFC05VMXlXPT+Hj3c7vHCvYpBWmMXHg1pWRMiukdvuRqImN3yR2o2q7MY2dtOgwQuEMNCHWf/ithDjr2+rz87rGoDg4asTDOcc6+vrdDodWq2Wzxa7zIBbz+YIWSY7tS+KIsbjMUoper3enFYjz/M97zucq+7pDQiC8nCOOI5nepDwXJ5LWDTc014E7QrDHILI4gldpQe7NGZrre+8/eeaS9sqbHV8URQUeU7S6bK6ssKZU89irWW52yU3hrzwylNxGueCoM7PLkMMfTQag/i49MryMiabYk0B1iK2JLIw3RpgDZSmpKU04ixpmpAVjv7KKstr60zKDI2iMCUi3rhEhJCs5nAoZ8CVjIYjyryg3e0RpYl3O+gM0QolMls6Mij3fRag84NMJZRz1lJag9KaJElmbPdaxf9uJtwMdhMa4j0G7oW3G397z8Nu8OJN67zo8kVoNw0aXA2uJBXzcljUH3U6HQ4ePEgcxzONw+VCHXVNRfi7rKd2AnOz+6IomE6nc+mb4firHfSDvqPuQVhM/3whccWaCaoY8HbDBBGHc7IQq7lUGOZjvA5dKMppjtIKJQqXl0jLkUQxaZoyHA7RkUYl8cwV7gsGbCvqBC9Gm0wmFKUlTlK6S8s+1iya6WhEGgkmA20M5XiMKV3lBi/o9TqIc7RabZZWVyiYr29QDQVoke2AvnMUWcZkNMAWlla7S9zqUopgjSFKUqw4jLPMRJoOlK0GxdKAtZjKfRVpf49RFCEIRekNda6+wm2D3e3G1VKAF4WX/rtrYzfuhtkNV2U34RgdyEPps1Tsi9JuGjS4fqhPXmDbs2GMIY7jWRhxMTtkJwSSHzQXi2QieC9CaudkMpnVulBKzV1rEYt/5yIy82YEkaWIzEjPoqflhcQVkYm6yvXSFJS9RRshtqNEcNYxGY1QShHHMePRmCSO6aQp+9bX/QFVRzu7bTf3Hw4wVTwoUpq1tX1YpRiPR6gyR0xJHAmpUmgHlAbtBDElCstkOMCI0F1toZKYIs+r+kIOrTTWBoGdwpZeOFcU/nqtNEWlmrywaGORNEWAB970Bk6cOsnJM6erqJADs+2itiG1RylUpIlbbUpT7uhyul4s8nrgtrEbaeymQYObEbOU7ufglQhhhXqxqHqfFWpMLC0tzc4fx/FswA6kYfFvse4pnE6nM8/DoiajLEuSJJl5bsH3H5PJhCRJZjoH5xy60oSFVNUgug5C0VmtHJjTdYSiVYF0LJKmnZ7lXtv22ueqsjnm00D3btj2cdUHEYo8w+QFKo4pbY4AZVZQZHkV+wXw1QoRP5NcdCqVZck08y9nqbfMsbvu5omnn0aJkGcZsVZEWKJIkRcZPlYhVYikcqM78ZUSxeGU4JygRKGc89ULre/InbXk04zxeEzS7pB0WmAcDs8AsSWC5eEvfIES60MwlVsaY8ltFefGQRyRJDE6jiidxRl/r7M0xtt0MJj3NNyidsMudoOg3PW3m7qt3K5206DB1eC5hjlChsSisLA+uw/F6a70by14HUJK6V6ixatBEFuHdvhid2PKsiRN07n2bgvY5ZJzvFC4CjIRZpqVTr1W/MLZ2sCw0FZrqyplSmHzEqwliaqUGOso85xsOkXp6mVVA852hEF7JXyVNlcUBVmekyQJ3X6fL3zhL0g7LfIsw5YFidYoY1CxF/wpLRizrbcIcnvfWQPaa+0VgnI+iU9QWAuT4Qhbliz1+qhOh1IsOEOcKsDhrMFWmQoOcNqzPyktGEthDU4gThOSNKF0loktcTgSqhoI4eXepl7qYDeBPMzZzR6E4uazG3a2G6dQzl5XuwEQdXvbTYMGV4PnM0jupIMI5OFKJj6LCGGHLMtmBOBa6ZqUUlhrGY1GbG5uzrRowbsCXOLpqD+bOhlZxHMVZ87Ovffm7dS20FFXc0yU6O1cftl+4PVmBjeStTYkSaJ1RBL7wkBxHFGUJXmRk5iKWakQcw6lkC3OKZz4wSfPMkxRIEnCxsYWURRjyxJX5CjnfMxafHVC6wxJp002LaqH6yraUM0Eq3i5FlDKIdahnK8DMNjaxBnD2uoqojS54JP2VEjzKzCmxFmDFqGwhnxa+JRHY1EOnFKknTZRHJEVeS1VkSqtL8S7vVjv9pljXqHduJrd1G7+WtiNr2/hQPk6EXk2xRQFqqpREccxpiiwRYGi0jqwl92wh91IYze3AXbTntS/b/QpNyeupAZEmMjUfxaPDd8trt8RECZB9QlRXTAZ+q6Q/tlqtYCdi2st6hoWhZeL/4ft0+mU8+fPMx6P6XS21/Gph5J389LsZbtXIvzca9veZCLMfvwUmtKUKOWL8thQRAeNiJqJ6fxczlSzOINyECFgHQaHTiKIPFtypaG/1CeKI5z4lDhxglR1sEPhH6EqHFQU2KIkUhFpFFNEKdoWtLFIPiKiwKEoI42UwniYkba7WDLEFFAWCIYYcAqSsPiTEpQTnM0pxyOGoyFKC93VFUotGFMCCqzCocgd2FL8wFL6GJY1FiodgGhF3GoRJy2cg6wsvJBQhKjq/K32Cv7KQ089CnPLQ1d/nNXgfiPsxokvg40zZNkY5QydKGYpbjPUIGKJncEVE5Lquuhb0W62s44aPD/UY+BLS0ssLy/TbrcZDAacOXNm5kqvx9Yb3FjUhZKLC3rVvaBB4Cgis3TqULo6IBCHQACiKKLf78+tf1EUxUy/EMIf4SdUzJxOp3NEIpx7UYQZUk1D8arFKpZ1D4PWfl2gjY0Nzpw5g7WWXq+34yJl9eN2wm6eiaDf2In4hPPtVbb/ysMcbLOuxcbMMSjnsM5gjcWYEqmxNWstSciLz30pZIdQGlup6qsCP6K3tQTO+rh5WZLlOcZa2t0uojU4g+DI8ynWWVSk/AAlIMqX59ZxTGHB5YBWuLJAtXq0l1cxDhQWMGBzRsMthuMxaatFt9eltBZbCV1Ka71+3wJFiZQZzuQ4YygdVeEiTRRHtDptrHMUZSUIdD7+5l+5wkfbKzbqHxwzRnGb4UbZjXElImCLnJYWojjhyB13cvH8FuNqnQtrC5yz3pbEVp9vNbtpcK1Qlp70Hjp0iPe+97287W1vY//+/Tz88MN84hOf4Gtf+9plw3MNbgwW+5bgVQjrZFzJexMRkiSZrZsRquvuhSDgLMuSwWDAYDBgOBwSRRGdTmfO61DXTuzmARORSwpMKaUYj8cMh8MZqU2SZE9P2m7tfr7lwPfCnmRizu3hmMVnRBTizKyzn0vpE78SpDUGUxo/KNhtZam1VJ2lIFqTW4M4P/iLVB2mbGfda3EYa8mynMKUpK2UOIn9IOMynHIU+YQ0VsGBAg6UCHGS0Op20W3IphnG5CRRTNJZpd3vkdmcCM82hxsXyfOC3soycZxUizspcBZjDdY5jDMoY6DIcXmOMyWFc5SiiJOEtN3yQjljKK0FQnyqSlMUVw0IsyDObTkgzCQG1T83wm4MDmdLWsqy1I557f2v5E1vfBN/8tk/5c8efYo8L5mORyTahyDAe0wau3lxQ2vNBz7wAX7gB36A9fV1lFI8+OCD3HfffXzsYx/jqaeeakIdNyEWQxWBCMzK7bvteiyLxanq54jjeFY6uy54rL/v4JEIn7XWnD59mnPnzrG1tcV0OqXVanHo0KEZMVkc3Ouz/7C8dzhfkiRzYYvJZMKZM2cYjUbEcUy73Z5tr+scdgrb1L8P255vOGM3XNYzIUpwxp84uJKsLZGasG7O9VEbIMJLCLNSpTRxFKN1hMVgReGl7A5lHarqNIPbyDlHHkqPloWvJRBFVV4+1cBjiZQfBMBhRRClfFxaQCLNSn8Fh8KUJVornOripCQqLePRJoONTcq8YGl5BZekfp0HV1UitII4jXWGsjTowru9yyL3Qrw4IW13SFttHI5pWeIQnIrQTnuFhgjWmWpWGbQltnLtV88ZH1O/XQLgN9puCuvfU6uXEpuC9z74jXzdq1/Fy44d5E9+5B8jxqBMiY4S78GgWvzL3kR2o3y6q7cLT+hFLhWE3SYmc8MhIrzqVa/iAx/4wIxIhO+/7du+jZ//+Z/n5MmTcwNTgxuH+fo1l2oPAuqLaoV+ZSeNRQiBhME9eDZ2WngrfBcG8+PHjzMcDmeTpMlkwoULF2i327NjdvMILKaNhv6vKAoGgwEXL15kPB7PLRleb8OiBmQnwXtA3TOxW4p5CNns9JyfewVMYVu3UN1gWZb+9zCgX1JDwAf/xavEoGqccxCpCBDK0sxi3VRKfF9gaF6jYYyhKAryIgcRoiSpOuqqYLMzlEVGmghaKVxIChRVie8cpXWUDkRprKqYmVL0uj1OnbrI+fPniaOYtQN3UFr8jLaaBzprcdZhjK3i1DGRFkoKrFLE7Q5xpwfazyqNAyfaDxbh2VVzSZkTRFw6GPjnvOfbuHVwE9hNaQ1JpCimE172ivtw0xFPffWLnD9/FooMcY6lbheH9VqNEB7jJrWb4OZZeNASbrvB84aI8OCDD7K2tnbJgCMivOc97+Ghhx5iPB7fwFY2CAghjODWr7+v6+k5CiRikXTUlzCvZ1tcDkF3sbGxwYULF2a6inr9iJ1CGfXaEgGLZGIvLKbD7nS+51xnQvAu5NCJ+YWG3PYqjbPZ5GIFTJ8z75xfD8GKoJRfIKksLSjBafGz1+pKfg0GPywUhQF8/DxU9YqTZDv+XrHLYjom0ZAkbTAFgo+lIwqlfMGj0pS+4mGqQDkQhSkytjZGXLxwjqVen7TboywFqxzWFbPrOFutSeIcS0srLK+sUI62uHj2tE8jbHcoLZRFWQ2CikvVcFItVlYRHOz2wODCMCizQeR2kE3ccLuxlsKVxKKYTsccPniAu+68gy/9xec4cMch1tdW2NjcJI41Rek1Oa4alVV17RtmN1V043J2M9tX8PvdBnZzM6AurqvPJpVSvO51r9uxAFuDG4O6+HEnEeL1gIjMyESdgIaQSSgatRfqi4yFideZM2fY3NycLeK3OIgvkon64L9YAXNR2LlX0aqwwuhubX7OZMIgKB3hgjvFhgHAz75sJZxbbFxQ5XupRc09UrlmtETY0s7ivqEeQFhfESp3lPEvSMcRSmlfFdA5pKoEVk4zllaXUSryGQDiBW1KQEtJFGkK73cGa9HOUmQZw41NLm5u0Ot36PeWyEyIPzmsqsSA1eJKxhQkccL+/fvoLi9ztshQ3T6qLMlMiTEOrdS2uh5BV+1XcyQhzDX9E9KVJs8KOFXdub09XNbX1262S1n7zh+KIseIwqBJ0pSLW1scP3mavBROnTrPMJui0oTClaDZ9gIgL6jd6G4fcy3tJghP3e1hNzcCYeYWCMKFCxdm7m7YdhkPh0N+6Zd+iTzPG83ETYZQe6GOeurmbjP1uucU2DEzYifUwwk7ZZBYa2ckoL5GRp3g1NsQPA/GGCaTCePxmCzL5gpR7RWeCefZrYT2Tl62xWexeNwi9rp2wJ5kwiGI0r5jd4DzufC4qj8PM8xLmLp3zTrrKF1YuwCMBEV/dQJjcVL6mWFNLyAwW5NAVIQWv9BTKK1cWsN0OqWthW675WeOVSVEKUq0gNaQiGaa+YJHCmE8HjEYbIBzrK6tkBUFhTFY44skOWeR0ngtRlFgioKizEEcG5sXePbCOabTqU+9sRaHnzmH4az+Mqzzq0fOBgJFlbo4+xWnqGal/q6dVOmNtziun934lMuZi8cZlBLyfIKxIFGPN7/1rdx7312cHYxxSZ/PPvT/sbGxQbffQwQiHflDS+OroF5zuznPsxfO+dUDraV8HnbjuL3t5kagPiN0zvGFL3xhts5ByAJ4/PHH+eQnP8knP/nJJi30JkIQE+40W64PfIuz7N3qSoTBf6fQQP334HEItpCmKUmSzAkn0zSdhSbK2mrJi22aabyKgtFoxGAwmC1NvkiSgtdsJyx0mn8AACAASURBVOxFBOo6icsRgkCudjrf5cIle5OJ+kmDcG7mpg6sZ3GG6Tv22b6AVv5mnDUoFfnBxHqFvzOumpnXO9Rt8Z04hzWlH0RqC6jgHEvLXXSkyBXopEUcacrpBJtlaBcRqQhd+Dj9cDBgMBwSxwlLq8tkeU5mLaWzlHjFvbMGXeSU1cqUpTWIVlglbA6GZKXPNFBabWsCYDavrQevRYV6CjWvtPIzTa/PU9UhFcsVhUX8QHGL47rZjSgkFM4W75VwxvD1b/+rvOylL2VteZlveec3sNRq8+9/+7d59NEn+d0/eohet02kYqZYkm6fREfYcYbNclDX0m5gczBgWvgVP5XS8DzsRm5zu7kRcM7Rbrd55zvfyUtf+lL2799Pr9eb1S8QEX7t136Nn/7pn555JcJxDW4sgg5hrwFyN7IRRI/BuxDWwtjJvb+YThkG+a2tLba2tphMJnPhg1BDotVqXbLmR0CSJLPQSJZljEYjptPpjMQqpXZcivxqS3M/11VD96oKuhsuQyaqEwCmqlZYGuPdsNVMaWemtN0bClXRHa0oCkNRTmdeCD8Ds3iV2jadMMYiAkprnC0xfiELXPjflohSdHsdSq3QS0t01tfoddqUwwFnnnmaaOpngGmsEWeYjMckqS+lbHAYB1GaUNqQqlhQZFOiPKcoSiyOpNUiSls4pSmMxVnQOvaZI+Gh1twNTrZvHWTmzgeHiBfoSYiBV44YP7wwc48pfes7rK/Ebi71SsDV2o0nHHH1h2ywzvBt730vf/c//zu84TWvJq2WDs6ygnte+SqOn73Iu7/9fTz55KM8dvoU0coS8YEDdNM2djDi7NNPk+bZNbQbRVE6nBWUiuf/QC9nN7z47OZ6od4hGmN43/vex/d+7/dy//33k6bpJWGMe++9l7e+9a383u/9XhPmuIkQBJg7aSYWC0rVEUICwQ4CkQgeh6AbqIc9AiEJHolz585x4sQJxuNxTQPmZnqDoPUrioJ64al62mr4283zfJYdFMJru3kSdvKqBNRt8oqyLyrP205Y/D7c12INjLnz7boFP17GcUxWY+OePPii1D5eu9CY7WjFTCQXaY04v5yBw88gdaQx1mHKcjbT8uWGt9Vl1niFv2M7FhWK+CRxBK2U1vo6rSNHaR84QLfbxm5tcXo4hNMZOIVYS5lN6LbbWK3JjcMZU/XLAtZS5hllkVNkU/IsJ2616Xd7GBQGIS9slToYzYxw7mHP+ZiDkE6qzn9bmy+zO1P4yoiWBEiUA1OQJJqDh/bv9UpuCVyJ3VxqwrWS1f4sV2A3AhbKosA6w3e//7v48Ec+zB13HELbAlsYtI6JkoSDhw/zxje/gftf8XK+8pW/5A+/8mUePn8Wu7pKq9fDbW1RjrdInx1dc7upV9+7YruZeTBePHZzvVCPlX/wgx/kox/9KHffffeMSIR9wrt617vexerqKq997Wv5qZ/6qesm7muwN8J7rGc51LFbBkWofBmOTdOUNE0v+T6EKQIhCWPQ6dOneeaZZxiPx3P2Ur9WnudsbGzMtA/1sEb4HAbzUJEziC9Dymaaprva2qKXYFGP8VwWPQvHwqVOAhGZW8l0J1yGTPgbV9UDDnFrhwOrECVVXb7ai3SzfxAHSqvKXQ2lrWbqzuGcL+yDq6r6OX/eQBh81gaEdEHx0zCcVThrWFs9AN0uR1/1arLVdaID+8mKnChJufeNb+LMp38bZQRiyyQriFsdxhaMtYj1WQO2KDFFTjYeUZY5zjmSpWWStIUlIi8txhcFQIkg4qoshRrjk9n88tLnp3w8XwCc8gPibLeIREMHS1cZDu5fZ22tS6/b3uuV3BK4IrtxOxMKuHK7Achzv9jXe979bj70oQ9x5MidGFNi8sLXHEkEUKyuLJHcdxdLbcXb3/AmDr78FTz5G/+W/MB+SmeJkoiXvOEBTn/67HWzm/o915/FnGbiRWQ31wNhZpgkCd/xHd/Bxz/+ce6+++7ZtkVYa4njmLe97W285jWv4Wd/9meb1NBbAHUSsDi7r6+5EUhDyJgIg30URTNPRRzHs7U2zpw5w/Hjx2ceib1m/kH/sLKycgmpCSLNOI7n0koX97tSUlAnv4sZHFeKQCB2ImB1ArQb9iQTOorQUezLDVc5/9jaH52rJlIhN2+GKmShQnzJVPXCtws12bKchQFEaV8nwlXbranCCAqx4JSr1l9ws6qH/ZVl7B13sv7SlzOMY1buPMz5c+dYO3SQFvdw/PMP0Xt2g1QsG5ITK4HcUKiCxFSFsDK/slue5aTtFr1ej0IUhfXuKSdRJXRTnsiIpwY+AbVaKwHZLqI0u/vq/yqOL9WqkcoBxqJdRFJ0ie2YfT3Dy+5a4dD+Pp1Oi+FkutcruSVwxXZTz8qYfeKK7UYpX1L9b/7N9/A9H/kIR+465utQOIMxflVOjF/Rs9uKKQaCK0pUMWGllXJgdZXk2DHOXtxg5dAh2ndZnvn8566b3ZirtRsikvz2tZvrie/+7u/mox/9KEePHt01Flx3h4sIKysr3HvvvXzpS19qwhw3AQJRWFz3AuYHv7r3IBwTwiNB21BP4wxZFPUwh1KKU6dO8eSTTzKZTIBtQWTdFhZrMuyWihk8GYFIBG3Fooejfp8B4Zw7ZYfs9nv92N1qT9T1QIFo1f+/HPYmE1ojUVQtaqS8p6ByVW/PyGtCsdlL2z6HA/KqcIdoRRQliNouaFQUBbZ0YHz6oH9mDls5vSOnKXFYMSjnV/aM0xZRu4U+ehcbpSVJhQP9PitJjBLHYHOD9itfjjr1p6RiKbVDtEKVGTYqKLMJk2lGVhhKK6zsPwAqIq9KObuK4HhXc6WZFL94lH8CDuWsHwLFC+0coJwfDJVUg11MFf9XaDSq9LNuMcI6EYfWV7nvmOaeOxOS2CGikezWj31f1m6qWMa23VQ0IkzaK01KUamgRSmiKPYejVpMcjqZ8B3f/u38ve/5Ho7cfRdoxWQ6ZrR5EeJqnY7S62uUaEzpGBU5SI5bXmJ1dZne8gr9Vg+lHBuDC43d3OYQET784Q/z/d///dxzzz07zlwX94dt1X0YaJpQx41H8CbEcXzJALyoOVgMYSySiUA6Wq0WSZLM2URZljz77LM888wzjEajuevsVXMkeBXqOojF9oTtdfFm0GyE89fFomFF0nqVy+eC3Ww+EKBFLcqVXGtPMqGUZ2bbcrAAoX7qSpNOPeINzNxHW1tbs1iwsYZI+8Gg3W6jtWYymlQLg4tf6VFqs1WR+ikRUXR6PWwUcejwnegkYd/6OuPBFkpVRaoFjt1/P0/+0eeJ8oLERoiDbDIh1znZdEJelLQ7PdJOn8L60txZllUPUeNE4VyVdieCVdWMsZpbWqf9PQtE4ksnKfHeE139rxKDs2CnApkidpp+q8WBg2scXR1zYDnlFUfXsIPzZMMJrVSxJp3LvrSbHXvZTSAMc/YjMmdRIUd7UNmNcw5qdhPcg9PJhMN3HGZ9ZRWNYzoe8dQTj2PyjGTfGq00Ibc5UZpiy9yT2sIwzEui1XXWDhzm4niKc4Ktinw0dnN7wznHW97yFl7ykpdc0WyrjjAQNUWrbg7UlwlfRJjth231z6FkdtAABE1DPaujrh1QSnH+/HkGg8Els/qdBJK7EZn6AF33kNSLUgVtQtg3rGsU2hKEmmVZXnVmRzhusd1JklyyX6h/USc1l8NlF/oKjLyeunk1COzPVkp0pRRKFOvr6xw5eoRzZ89xcnwSpTStpMW0mFCaojbaeEU7FdkQHdFZWiETQYmwtLREt9djONgiSXytiUhHHDp8lKcP72Ny/DidMkE5GI3HZPiOf3V9P8Z6XUZeFMC2O8d7TvyMWipXtYgD5fClhXx9gyAM9YOFQbkSjSUShVhHMc4oJwVREdFVbY4cWOPOQ0ss9SP2r2csxYIZbZCdH1AOhxw80qOtL00HutVwzeymSp9yNbtZXlvmyJEjnDt3jtFgxB/8wWfodNp8wzf9dY7ceZizJ55hdXmV8WgMDnJj6KYtjIPNwZBjR47y8Ocf4cCdxyBKGQyHpEnii1Vp1djNiwC/8zu/w5vf/GZe+tKXXnVs+YEHHuChhx5qwhw3AUJIYCdXfPiuPkjXf5IkodVqkabpzDMRxqp6saiQbXH06FEGgwFbW1u7hglgXuNQ94QsEojQpuBVCemmQaMTskuCVmOn9NLnsj5MuK+gC6mTmXoqaiAxe+koFnFFq4aKCEoHV+2i/wGU2n6wzjnyIifS0ewhUDvGWst0OkVEOHH8BJPJBBGhLEuWlvo4MdjM+E7XiU8bxS/kpdBYJ8TdHunqGmm7zcrKCmW1xry/vq0YZosDX3c/xy+eI81yxtOMqc1ZX16iTFKsCIUpcKacu08R8UtcV2QlxL1nc+zwXVgDBI3g0EoTi0LKgmw0xWSWruuQTAtW2inHDizzsnvWiZIJrU5GN26hc8vw3BbJNGNJWXoywCa3/qBwpXZT/4O01lGUl9pN4CJzdnPiBNPJFKU1jz32GI988S944wOv4gsnn8HlBalOKPOSIipQSQwIo/GEqNVmWpS02x0m06kXyLrtOKHWiiTqNHZzG8M5x2/8xm/w4IMPcuzYsdlCTLvtW6+gmOc5a2trJEnCdNpoVG406gMizKde1jUTde9EIAxJktBut+l0OiRJMsvcqJ8PmGkaDh06xKlTp2Z6iXrJ9TpmfUEt+0NEZt6ORSISil3VyUuv15t5BkIYxxgzV/wqEJPw+25i0Lq2QilFq9Wa/dRR90KE+6gffyWk+7JkojSlj9fU1ejb3moWlJeIKNJkO31kVoYzxIvEnyPLMrJpNpvBaqWYTif0l3o4sYzGOSIaJz49NAxGOk5I+n32HT3GoUOH0FpTVA9dqW0mZcaGw69+BSc+9xC9gebCcMDqnQdxoxGF8aRDVJWuM38DszYq0bhqEJi5rqRKbnSgBGLliMRg8hH5eAuXlySlpqV67EtWWFmKef2rj7CUZsAWy/t6bIy2KDeExGnaEpPqKYf37aObas6f37jsS7vZsZfd1PeZO0Z5uwmq5O3yrbvbjVQGPtjcoBgPefTLj3DPPS8lQYEBUxh6/SXyvKSwlk6/z198+cusJS1sNqKcjGgllbbCCc6pxm5ucyilGI/HM0X+XmQCfGf6yCOP8PKXvxwR4eLFi3MrKja4cQiVJ4OQcXHmv5jWGchCIA+dTmdGJgLpqC8HDn6QDQP8/v37OXfu3FzoYScPVSCgdVIRvlv0UgRyE0K39XbneT43mAdS5EXpZs5jsZjBUV9DJtxfuO9wvaIoZucI51+8n/q9Xg6XFWCaslKaQqVJkDmx3KVwGOtLJyul6Ha7ZFk2GyCk5sXwCzZ5V3hZlpSjgtxkxElMpCOM3Y64+5i6otvrE7c7rB44uF1FzJhZiMNhccaSGI1tpST9HsmzJXGSUHZizGSMcf7Bh3U8/PmriaRoP5tWlVta/KJVIpU7TQSNX/oaa1CTi6jsIomdsKqENIlJ45Re0mG5m3DP0XUOr2QsdTKSVp9TZzOeeHSLpbiks3+JNDIsJQmudGxeMGTj5St6cTcznpfd2Cu3G6xflfOJxx7lmccf567Dh1nt9VAOkiim1WpTloZxnntBr9LErTZmuEE5TMnGI9LlFZwoSus9YWljN7c1bLWuz6c//Wm+5Vu+hfX19T33FxH6/f5sMPjN3/zNRnx5kyDM6utkou6JqIdBwmCptabT6cyFEuqD7KL4Ms/z2YT30KFDnDhxgq2trcsKE8PAHMIp4bs6oamHOwKBCF4I2NYpLC4+F+pRhHMtZmiE/erEoV7gKxCkOsnaLePkarA3mahyYEWUT900JQqLdkIuNZdIbYRwgIim1W6BwDQvtmPEdSmebBeOcQqIvQEUBkxmqgwAv6CRcg5tFE407dV1ouUVWsv7MEqDs7SilHaUYLDkZYGLNKNigJk49r3k1WycfYj+aJPleInHpI1TQfTnSxSrykWtBWIEq0usVjhpY9C4SJgkLSJlWcsv0pkOUeMBrXzE4ZZlecVC6ihtTFT06LQPEveX2ZisM7h4mt7aiJfceQf/8eGneeZMRDHMGMQRw15M6aBQmmmq2Np6mu7SrS/uumK7qRmrr++lSdst5ErtRhSTScbZMxcYXtji7Q+8nk6vx6QokVaM6rUpFOxfX2br7AXGwy3uPHaIwWOb3J0mfEWNKdKUaNLi0WSDZVMwkmttN220WNbyDXrZCBlt0SpGHG4ZllfMVdvNWEeMejG5wFRHdI0w3HqKlaUmhn+lEBE+97nPcfz4cV73utfN3MU7uXKttdxxxx2MRiPSNOXw4cOcOnWq8U7cBKjXgQgDdxgYQ9gihD7CzD8M5PXy2fWwx2JRpjRNybIMEWH//v10Oh22trZm2oZFYWI9pBCuV29PnUjUiU89BTWQjCRJZl6IUMgqZHuE4lbhp04KFjNUAgFZTCkNZCNU6wxLptcR+ugr0WfsHeaoXMlKKcJUbNb9ByYjcmkcXIQsLwirOIrUMjNqey+W/wy/WV/xp/rOFzhSzq+WuLa+TtLu0lta8oJOFEkcE0cRzvgHYUxJ2k44feE83dV9nIsjokh8lNq5SijnSZCEBZeUn1U6SSEqUCpCJCZWgiJjfbrFkXjMy9emHGgNWU7HHOjmtESzMTacnUwxskSCkGVDBmbIVBvuWHO87N79tLRmPLCYLCLVXabZhKKwFJMxWZFj2ilrK6sk0a0f+97TbnY7prKbfNFupOYCqBBsSVC02x1UkfHM8ZM8/vgT7D+4n1a/z9r6PiSNGE/HTCZQTCes9LsMbMZmIrw8btOaXKCIImysEaegsKTt9jW0m5z16RkO6xGvXMs52BmxlIw40C1oibAxLq/abvJsQpFbptmYSentZl9vjU4jwLxiWGsZDAY8/fTTjMdjOp3OrrOw0Bn/4R/+Id/0Td/Et37rt/LQQw9d5xY32AlBKBmyEeqDc72CZdgWyEM9PBIG1Lpnoo5Q+6EoCtbX11leXubChQszseKi3dTJQSAxzrk58rBIJALqhAPmwyUBoS3BLsO16iGT4GkJCARip6qWdY/Gcyl0VcfeqaE6BiwSGF5w7Qg1t3NQM4QGbv8BzgvUqO1/KVxti6sdL+JdTK5yVaysrdFaXvLpoSLElUH4uj5+lUdnLCdPniBKu/TWW2ysrTM6d56irIoQqWgW3yYMeEphJaKQLjoqiQRShMRNSLJTvG5pk/e8IuLY8ohOusnyGiS6pMw154fCswOL1TFSCmfOTdkoYw65i9x7dI3VfsrDn3+KtltmX7ePiSYMsxiblch0k4MrMSuxZVm16KhbP8VvT7uZs4MrtZtdqIj49VuUi3j0iafo9Togjv/kb7yLo+0OpVJoEV/wScCakqV+n+OdhFeOMg6bDl9Ujqm2dLIYyRUnTz1z7ewmP8Xr+lu8+2Wau5aH9NoDltYciTaUmeL86OrtZhx5u3GTTQ6uxqzHllXdoquaCphXAxHhS1/6EhcvXqTb7WKtvaRzr4vp/viP/5iv//qv5x3veAc/9mM/doNa3aCOTqdDv9+fDZyhJDb4WX14d/ViVHUSEQbdsC0QivrgHbwbYUG4e+65h83NTS5evLhjuKs+YNezJcLndrtNPf2zjlDae/G7kLJaVIkGWmuKoriEaNR1EfW2hHYuFrq61tibTEQJZZmBKJSOcFUevaqKEMFOcZV5lnO5kqPhkEvOEpiXVGs5iPdMdHtdltfXSNIEJ4o4ShDl8/3PnT/HmTPPEicJ68vLqKUVuhIzvfsuTj17iuFoSr+bMsqqGHw1GEiIHSlNEilSHREZQ3nxNGpyglfe5fiG15R83V3n6KkprZ4Q9Ts4SWhNcvotxVLawcgS2UjTzjV3xAeIOimdbsqX/vxxBoOUftxhvR9RmpKzF1p0o5KllZQ3vCKlx3k2Tj3Kcnzrr7Gwl91s28I8mZgdu5Pd7GE+pnK/ffGrj/KGN72JN77x9RQIk/GEzvoy7VaL0eaAbqvNNM8xkynRsbt46s9Pc3h5ha8CXxuco3jqNF1tWF2/dnZz/12Ob3xNyWuObtHTU9r9BbtpX73dnDvfohOVLKUpr395Sl/Os/XsY/SitWv3Am9zhNnfJz/5Sd71rndxxx137Jr6FlT1Z8+eZTwe8+Y3v7mpM3GToL70d/g96Avq5bGBmUYiEIkQBgikYrGENmwnDwQvR1EUHD16lKeeeorxeDzTdNVRT6WsazfqS5zXy3nXsbiQVghN1Ktjhv+VUnQ6nbn013oFzWC3QVsRcMPIhI401iWINTg0znpV+t4+67qPYRE7DyBuobTRHJT3NGhRlNaRpC2SNAUROknK1miIxXDq1EmeeOJxjh29kzsP3kGkLa7bZ7w5ZFIarFKApZMoclsVVbKWKIpRSvyy00rhJpsMNjdhNGFd5bzqjpRXLI9ZlQkpBb0OSGpw8QiUIMYiOWglDLZOU+YxK/1VbKvH1pbwxKkhp84piiJhtVOyFo/QvfOk4y69SHOgK+xPTrJ/5QyHuheJmOz1cG8J7G039ZSOKzzhvEtj7njR4IyQW+HhL3+Vt3/jN3H0nmNErRYWTdrqMtgY0ur2WFpJGNicbl7w2GSTg2urXPjiIzxy7iz3Lx/l4IEDqBbX0G5GrDAmlZx+xyGJ3bYb+9zsJpl06WnFwa7iYHKSfctnyLsbaNusF3GlCHHmLMv4zGc+wwMPPMDBgwfnSi8HhM757W9/O7/wC7/Axz/+cfr9PoPB4Dnl+Te4dghkIpCI8H89pbJeqCoM5qFQVSAKdSIRZu91r0YQYIbz3XvvvVy4cGGuiFRAIDGLKaAhPXSnkFpoRyAdgZDUwyShJkV9shVEmUELETQW4djwf31iFtoXNBeLCPUmgkajjvBcd8NlyESCA0qjiZMYUxUh8g9qe1GRRSw+yOpbZGEtgu0tzmdhLBAKEaG03kWNCLY0xGlCp98limOKPMcVhmk5YZrnPPD61xPjRSotrbk4yXjixEkirdGtBLdZ0O902cpLlAhxFNNrdRFrGWxuceHiBex0glYtutKm1+6xlGakrkCNVxiejOjvHxGXOS636ARcqdjKUs6MOpzfhEQXrPUMUzvg/AXL6Q3Ycl2cU9xBxpGOY9/6CtnSgOG5jH5cst4q0HqD9lIJ4629XsktgR3tphIuzrJzroHdOPwy3k4pkIhHHn2CP334C3RXl+j37iE3ChdFON3i3MURrbZlq8x4ZWud39/f4cT4DHcMprzt/lcQ0UFHilTLNbObhAI9TRg/G7G0f0Rsc1xp0fFzt5uXrAwZnZ2wLIb1OPd20y+w01vfbm4Efu7nfo5v/uZv5tChQ3t6UN/73vfy4IMP8oM/+IP80A/9ED/8wz9Mmqaz7JAG1x9hcA5koE4mQphjNzIRyEMYsMO2un6gLorcDrsL9913HydPnuTpp5++pE31jA3YDj0kSUKn05lldtRtpq5vEJFL0pUDuQnhEdjOSqrrIXZK46yH6uoejrqQfSc8l6Jse5KJVqtFUUaepeB8ESlVpbwxz4B2uoGFb3cdFBaLLteRJgnOGDAOiXyWSLfb84PU2CDAo48+ysvufyVaYK3bZbC5yekzZ/jKhQGFdRxdWiJrpVgcy50OdmOTbruDLiynT5ykGIyweelnmCpBJ6vE6SqllGRqzEYx4rELE2zZolAR3UwhSZtIEopScXqrxdOnWmxtWvYtO0rTZuqWmJRD6CQYk5IUMd0UkskIczrj2MtOMzIWNe0QZwabG/ISxClaOz6JWwc72o1ce7vx1MT6EtYoTp09xyQvGU0y/vLRJ/jMZ/+YP/r8Q3z4gx/i0NIapYoxcczBsznq8Cqf/tS/5UNvfhejpKRYXWJ6fpONU2evnd3kI752foQpYjJ69KbRtt0YxenNNk+fal+V3dz9ilNslY5k0iEqHFw0jA04UfSu/au87TGZTGbpdXuFZFutFu9///vJ85wPfvCD/MRP/ASbm5vPeannBs8fiwLK4J2ol9LeSYBZ10gEMhGISJ1A1D+H9MtwjVarxb59+xiNRnPeibpGI8/zuZLddXKzFzqdbd1cmqa+EGRVcyKQkGCroQZF3ctQX7cj3FNo/15hjp0WTLsa7Ekmui3NpkkQFGzlpJLjTEGpOxQkaHFEzqFFY0XjiNE4WnaEFSgV2EqlLyJoIzhnKbWl1FAoMKKJjSYxEY4Sqy0WwGqU0xRZxsG1VUabF7DW0NJCP+mRuB6ZWMrpFk8/+hRvev0bcFiefPopTpx4hruO3clL+l2Of+0pTm5uYNGsdnvc00r5ymTAcPMs4/MbpLTpqxVa3TVyE6P6K6xqiGxGmjqKKGGq93F8a8Bw5NgqW6z1YiCicG2GBVzYGnNuK2NaKM64Pmumx1IaM3BdOjrh3mmOMgl5FnPcRHSzc/RP9HCTMTbfxI5B9BppvEEpt34O+xXbjdJYnofdWCE1As7ilLCybx/S6lHoHipW/LVveAdv+itvpZO22MommFhDAXnsODx0/Ifjp/jz5b/kziOH+ezZ85w8tcFdR/dfU7s5sZUyCnYzem52k00jjseaXn6B3tM93HRMnm3QjgWJ1mjHG5Tc+nZzvRFmmcvLyzuuT7C47/vf/37e97738alPfYqPfexj/OiP/mhTVvsGoq5/CINgcMUHQrFYNrpOEoA5glEnEztdK3gBhsPhbMAO195p1dL6mh+L2+ukIngMwnfBexFsMs/zGeGNomjmiRCRmXC4XiQrEI6QuhpsNOwbKmnWSYgxZkZYdrLp3XQec/vsugVIuiukNsLGU/JsiLW+WI/C0hKDiMMai0QJgsFRUohQpH7Z5Uqi7xvnXFW0x88oY+NISvHFrYBtp3VVkMgXvsTphOlkyurKKmfOn6OdRpSTIWupYF3EY1/9Kq992SvJzm/RW+mxsrzC2sF9PP7VL/PIQ3/Bl0S1ywAAIABJREFUodX9vOLrXsW5J77GZLTFJJty4cw5WqLpJku0pcsdB+6l29qHbvXo3rGPew/0cNMtHvny50AcedmidP8/e28WI9l13nn+zrlr7BG5VlbWKlWxSFFFUhIl2tpoWxrbI8uS25ZstHvaMObJwNgQBhj0vLRsQP0wHtiGXgYDeDDzYDfaBlq2puVFGmssyYtkSdwpkkXWytpzz9jvdu45Zx6ibvBWqiq5dElkcfIPJCoz4sa9EXG/uud/v+///T+L5zl0jUuWgNaW/jhilBlyKRngM8xhfajZ1oZmYAilRVYMM3UfnRrG4yEqTQmqPr2tfdQDn2pgifs9rOmB08YN7v5F4TXHjbwRNyJH8cbiRjBxXJcClucWqDo+OlG4lTpgCcMq3V6Per0OCNIsY1tpmnNNHrj/QZ47d57FVpPO8gKz80e5cP7Zt2DcjFBZSlD16G0tUQ88aiGTuLFvn7h5M/Doo48yMzPzmgYnzc7Osry8jDGGhx566LbeFHv48aE8TKu84O2ckVE8XnaZ3NmeWfZ42HmMIhNQ7gYpylxlH4gCBZEApjNAdlp17/Z5yh4RZey2mJeFo2W/i7IFd7HvW836eDVi/GqNFLt+Mrc5i288TJZhogHKWkIhEDbHR5PkBuv6DHWCdSYnwhVQSx0kN8ymxMTgxyCIXUglOPbGnakGx1i0tGQOYME1hbugwSLItAEjGQ5G5ErRadaI+muI0T6iPEeYnJ949wN87zvf5gMf/RCVhQW+9cT32F5f58H3v49OvUMyGuC3aowCj2FvxGJrAZsZfBswV19kYWaZdnuRSqOFrmUsLvoszb+DpYNVHvunb5PbCo6b08szROpQR6LynI3hGOG5VGs1tCMZG0OqHPqxRyVzOBhIWpWAoO7iN6HSFMTbA0Zxwuo4pRFCCNhYIrUPtkLgw4FdT9lbH687bpw3FjdGgroRNxI4evgIjpSoNCVL/YlmU4AfhkRJQp7rCVv3XGQO73nwAzy7/S8sH78P5QqeP/sy196CcVNtSaKtPqM4Yc2kxKFggH3bxc2bgYcffpi5ublXvcgXlsPPPfccc3Nze0TiLYZydqEswiwTjLI4cucQrp2dHDtRCCiL8x6GIdVqdZqtKEodBako3CaLrpGdZZedKF5fCCp93yfLsl2zJQV2Pl8WnpZFokXWovhe7rSAeNf/QTMLS7jaJclzzLiLlh5Wp1gs2gv5qU/8PF1l6KcpUTIiU2NUGpGlMUJprNIYNUnJ5EohMz1ZBDBEaLQEHIOVoLF4whJM9P9oAbm0VGxIHMUEoUt7dpbA9xmnY/LeBo25fXzo/Q/z1S//JaHr84MnnqBxeNLmdfz4cZJBQu4IKrMdetvXUUCWRBw9eJSNq1s0gxla1Rk8r8q+pUUqjZC+WqFWU4TVFC+UeEETT4QYk5GpiFHskKSGOImIU0HV8VEqIMksxjpkxgENxnFR0iFLBNtbfXxHI0UV3514Atj8ApEZEmUxAZpAKFxreDt0nf344mYycl4icYWkuThLKmEjHmGlxZUSrxLw/SceZ35+gYWZWSq+j27UIZZcO3+Nl/sDhs8+Q7B/GW3NWzJuHFnFdwOqooLVLxPZIVGW4Iv8bRU3Py4Ud5rWWg4fPkytVpveeRZ3ZzvvwoqU8+/93u/xmc98hjRNb7ndHn68uN3iXBCFW2UqiufhlfbPnQOxbofiTr/QXCilprFRLlWUHTCLbW9VJrjdgl6QoaJro3iv5bbk8jyNW73nsm6i2OePEruSiUP7F7g2zElwUN1ZrOOAlQgLmRfy0//q1xgQsp0mZOmAipPRmamxbgfI3CCMoVKrYjyH7sYWz3/lm7z0jW+TiJz3PfqTvP/RjxADaWKwqULGMSKNMDpjO4nYSsZceewcxhoildJYmGdlbYNGo8nVU2fY90ibrfVVqrUKKlf0R0PyXpWqG6DSnFqtMbGrzhVerUal2STd3OYD7/9JHsueJpQN6pU6cwtNjDNkc3Ad6Q0Jgv08+dT36Q8lXljDEzV8IcjzDAm4rkSLMTkjHGnxhEfdk7huQCUz5FlK1XOYq1VYaLv4KsaVEMdDtNIILL6QuK5EegJHZ7jWwTcWJ7/7a7A/rriJogSbpIjUIHOBwCXsNEikod8bUAkCLp47x3cfe5xOu8N/+7H/hnpYY5xntBLBgZlF/jk4zVq/x0xQwwnct3TcSCy+ELiOh3TffnHz48DNhmg3t+6laTq98CZJQhiG07pyceF+5JFHfkjstoc3D+XOiVs9/mqCx0I/UOgpymSgXDYo9lec74IgVCqVaYnMcZwpySy2cV13OlCsyI7s1FjsLLEVcViemVEQonIXSLmVtBCSFo8X7/tWKDIpxb53vpc3il3JxEIrZKATXHy2vBtDmxwXqzWONERxRPPAMqNul+V9Hcxghd/45C9i4xRhJ46UF1auEnmWM+ICL2qDERYENOpVjh4+TFBv4noVnNzS8T1avsN2bxPTCOk5Of/X6v/G6f6ALIef/6VfRrgVssSg44zx6jqNSsiR+96JqIREKsfeYIT9aIBWOa7nT8ZC33Bi9LyAdxw/ztmXrlB1moShRyr6XL7wDGFdsG+2weq1nE5rlsE4otmpURUevnTJtSBTGm00wndxAwdhYxxP0mpUqTk+cxJ8p0rVMyzpEaEa0aykVDyI3Zi6p2iIAW5SxwpNrodYHRN6DkEOanz3+0z8+OLGB22YrTRpuFX+7m//DjWMcKRHkuRkUcxXv/pVfvaTv8C1K5f52te+yoMn3sX8uw6wVFmgNbfI/e9/DyOdE2gHvx4QD9Ve3LyNURaYldPc8IpyfjgccvLkSX7nd36H3/iN32B+fn76utnZ2T0C8RbH68kWFaLFAkV5ouwuWTadMsYQhuHUNdX3faIoIgiCm1o18zyfGlBVq9WbNBQFyiLR4tiu695EJgrB5Otd5MtaiduhXAIpE4o3msHYlUzoeEAgfOI8J0njidfDjWmgNukS9ddxWrOMNzcw2yl1BmyvXsIMLVtb2+TCMnQ0K2rEpa0VIqvI5WTcuEw1wSilkkdokfPypct4B/YzvzjPUnsGZmv0N68jHFAYYqNJteUn3/cIraDOmede4MKZcwSzbXS7Sl9FOK6PayxJf4Rf8TAa0igFD3wvxPcCtOezurbC/v37cUWIRLO2vcL8gTqdmQptzwNt2b90hP54A2E9RJaAFGRKYPxgopu3koYfMlN12NdusNXvsdHr0h1s4JgRiy2PalUx37AshD7V0MciqIdDRNKHQRdcgxZjjI1wMAiVY8Z3/4yFH1vcyIyrqysES4fI1DZ146BjhfRSbG554gdPc/qllzj5vvfwr37lMzz9L9/jW//P1zkwPMz+ex6hhSSzCiEFUhmiYY/ADfbi5m2OIivx6U9/msOHDwMTkjEYDIjjmI997GNcuXKF3/3d36VWq/Frv/ZrtNvtaRnk6NGjnDlz5k3+FHu4EyiXEeAVclG+04dXxnh3u93pc81mE9/3mZmZYWFhgcuXL6OUQms9HW9fEIaCTBRmUeXSQ1njUQzcuhV5uNPOq0VXSHG88mjzV9MQ3Qq7viI3DsJC6DqINCYwk4FbVlvwJWvxiAvnv09ouvhC4C0c57EXr3ByqUZQtVS0g1CatWjEYLSFNgqvOGQu8bSkIRzGwy7HZ+sENqO7vsm4H5NWQ86NugRbGdoVtHIY2zVm7CqJrvGOD5wk/dol1i5dpBYcxYYB2Y3JlNKRjLIMqaERBlgPrCdJ6zViP2Bz8zz73/EQ3UHGtatnmV9qcXC+gc4imu0aG9sjeirDDxWLnQZZZFnZHhHJHJWP8P3JbJJulDLMHM6tXCGPcvxc0pQhdZuwXwkYXSRcaGGkT56m1MMUzx1hG2P0fIRRI0KTgrY4rksSg1ysvaHAeCvhTsZNf7SFsjd86KUBrfBMTksIkuE2x2ou5GOurPSpN2fQBnoqJrp4gW89+x3C0RDjbOMPLvChD72Ll8+9zOD0Fo9xiQf3zVPPNcOqR09rWtQYZ9FbLm5qYYrnTOLGLCTobICvE9Dgei7x2ODsa7zZp/2uQHkk9eLi4k1p4nq9zm/+5m9y7tw5rLUkScJv//Zvc+LECR599FFgckE/dOgQ58+fn17c9zIVbx6Kxfp22KmXKC/e5RJWsV2Rgdo5JKwoUZS7OorWzHvuuYdarUa/32c4HE6PVa1Wp4tz0d5ZtHbe6u6/yEgUXhlw+7JD2amzeJ+3i0OtNUqpaeak/PhOElF83p0onts5O6SMXclEPQyJpIPIBdJoxI3mTUdK8CocXt7Pez/yQS6+9DiHZmdpdQ7z/Jkr/O1TL9KoNNm4vI5XCYk7AZvKY5BO3pAQEp0bXC/EdSrMzVWotyr0hwNILc2ZDi9cu0LqGLQwyBtyfWkEg1hRn5klcho8+qv/lv/7r/6Cq+cvsHzPUTrVNql1SX2ouUzmmRuLxqJyA3YyGGw03CIMJNG4jx8IgtAlScccXt5PnmcEbsqo1yf0J1/cgSNHUN46mxcvUas30TojzzWO49LdWMckCSIXtDoztGouCzWf5UWP9xypYOMBjnIZdxPWul2aZolRHNBupORqxFj1CUVC3deE0oDq73ZK7grcybjZUh6DRDOZEeqgc0vgVnBlhXYroNYO6SUapbZ56rFnWDq0TORpnn38u3S3N6lIC8IhEhJXBPzG5/4d/+G3/wcuXbrI1t9swGKLgz/xHoKGQKcGaq23XNxsDQY0RYthVKFeGWHyGo4dUXUyHGKqJod8uPtJ2QPwSgrXcRxmZ2dpNptIKcmyjC984Qt897vfRWt9U4/+Jz7xCdbW1mg2mziOw+c+9zm+9a1vvcmfZA9vBOXZFQXK5lSFNqL8fOHvUGgnOp3OtORx4MAB5ucn85SKmClaQdvt9pRwpmn6Q1mJ26E8mOtOoSBMRbdJuX0UXhFpvpGSSoFdyUQ8HGJMgFI5JGNcciQapIdbbaCGI1ZOn0LGGc8/8wJzCzHjxNDPfdav9rnn4Lvo9fskSUaaBVjhIYRFCoHv+qxeXSWtjqnWXDR1HD9gc2OLLDHM7VvE+hYC8KwhkxaZG3pxxlOP/4C0dphaxeHAu9/L6LF/oH/uLNW5OdzFZVLpE6cZoXHQuQahmW93mN2/nytrGwyGm8Rpj3G0hedqtFLkCEaDEViY78yz2R2gVEbfQq2ZUG3UqNYqaG1RShJHmiTOkE6TSrNNp9Wk4jsMRmt4UnHt7BnOnX2Oj37gvaiRw+rKEJUGVE2bKA7priVYDAcP76e3ch6x9TL3zfnI4QZH39CpfOvgTseNED4CkMLBc0OuXV0nrioa1YBREjNQhtW1TRaX9uFVfYyMSW9M8FTS4AnJ5a0tNq6PUW6E26wxHI2YqdVI1vuML6/ATAvkpE3zrRY3WepSzRqMI5d+3sJiOXh4P/3Vl7Eb57m34+AnPQ6/2Sf+LsEjjzzCH/zBH/CBD3wAmFgbf+UrX+HP//zP2djYQAgxbaG71QX9gQcemN5h7s3nuLtQlBF2CiyLO/xCM1FGQSrzPCcMQzqdDlrrqe8IvOI0WalUpm2dlUrllpM6dw7f2hlDryWmdmo9Xg3FZyh7YpTNq+AVEnO7mR2vht3LHFGM4wmSXpeou0HFA6ksuJJ6vUVFJ/iDbfLxiE7YpBWGjAdbtKWPWw1Yf+EMx44fp1G1RFmf05nCWIOwhsD3aDebBDjUQp9K6DFOE/btX0LiszruMxptMLY5Is9RQtGwAt+XWGvY7g9JvBZmEPHr/+bf8pU/+z8Zr69NvATml6jVQurSpyJd0iwh7m6xfellZJ6idILVY6TIsCZFIKiGDUKvhrGaJI44eHCZS1evszUYYLdC6p0Zaq0mVy5fR+cCrIsXVhhHEVv9EZe2r6LUEI8xM03FfAu8yj6+9vQVGpVZGvU5msuLDKzg1JkzXBvmWCekvvgIT1+wDFZzttIKzXz+ricTdzZuBpxOFcJMBJiVIGBuZoYAn6BSY2vY5/FnX2B9vUc8HKO8nGMfejd5KHF0Tu4YqsbS6rRYWYnoRTFO6JENh7hakm71GV5fR+YJtXaTWqP+Fo0bePHMWa4PNcYJqS0+wtPnDcPVjK00pJXHe2RiF5QnON5///0sLCxMF461tTX+6I/+iJdffvkmy+GCSKRpSpqm0zbAZrM5XYD28ObhdsOq4BWjqt1QLhEUephCL7Czi6c419VqFd/3OXjwIPV6fUo8pZQsLCwAr7Sblh0mi/LATsFjuZSy87PdyrCqXNK41WcviMHOkoaUclqaUUqRZdlUpFmQ4jiOp/vdafpVFoneDruSiWOHDvHyZo/Vl89x5tknuGd5kT/4X/+A//nf/wd0vYkX9WBtzHB7RD+TVIRPsr5GlEgOzx3ENZqOIwiqAadVClpPbC3JgYxG3WWmWieN++hEoJVlbXudfQsHSOKEqNejpxXSSKyjOTbXolOxPHB0H70z22xe2eKe9z7E8xcu8cAHP8q3v/1PDNfWOFCrY2VONkzZ2NhinIywWYQ7HBCgsD4k6RjIcD2B1gZrXByngnRyhOczGA7waxWqfkBfKzavX2PQG+KHVRwR0OsNGfS2GCURURZjrMKaiMCNaDgOMRanfYKlfYvkacbFK1fpXn2ag0cPsf/Bw+zvrrCy3kMPz2CTDZI45an1IYdn7v4R5Hc0brIEdM7E69IghabR8Gl4dYzw+OevP85TP3iRelDDs5YHP/QA9WaV2EJoXSIZcXymSdPNuPfgLE+e7dOsVVBRncFoiJIWnSnSjS2aDgQud0XcmOEZSDdJ4pSn3yZx86NEeZLkxz/+cY4dOza9sP7hH/4hZ86c+SEr4SJFHYYhYRhOL7D1ep0TJ07w/PPPvymfZQ8TvFrXwe38JcoLYpFR2GmzXUZ5dkfRHlqUMtI0nb6uEGMWsVZoM8p3/DvbOHfTOdwKr3UWTEEUdupFCk8Kx3EYDodkWUaapj/k4PlGTNl2JRMrV6/SG0SgEoxK2Fi9xtf+9m+J4xHGkSwEDvt9QWdhnpHbxBeaE4f380LPYFyffe84SizhatTn8qhLKgslNVRCB50PGY9G7F+cB+lQqVZYmGlw/do6jbDCQ/fdx1/PtDHmClZqTHcNGXWoOZqPnDzEuUubmKiPXJxjkKeYWoeayhideZG0WkPEGfk4wZoMREZgc0LXIJ0KcTSi0+kgyQmx1MIWw0FCP+/S73exjkB7PgkOUWbwpMvM7BxaS7Y2e4ySEZmO8NyIphyj1JhOM+DkfSc4eXw/o81rvHzhGqt6g8W5GQ4fOMjifIe1zXUCz+HefctUrMuMZ3D0mNQxjJszPJHc/YOD7mzc9FBSTjQTAjxPEMc9TDzkxTPXWN3YplJtIpThHQcO8sgDDyL2+fiNJiIHiUZsruGN23QC+Oi7DvK1555i5DokUjK2io7nkg03GeqEeG1lL27epjDG8Fu/9Vt8+MMfnv795JNP8vWvf53RaHRL++JCT3Hx4kXuvffeqWBzz/3y7kS5zFH8/Vq6JMoLcxiGVCoVPM/7Id1B+Q6++Lu486/Vaggh6Pf7N5Uyyhmu22UcXg/K9tnF+86yjCiK6Pf79Pt9BoMBSqldSyrl7+W1dHfsuoXnOEgs8WhAveKjsyGnTj1Pr9+nXWvgGIUajRkmEWNPUVVVqAasxg7BzAyuDNhSijXXMAx8RmYipBPSkqQRtXrA/k4LoXNq9TrbQ8XpM6fwvSpBUKO71UOZSaeDVYaG5yLzCJXC7MJhHr98lnqzxuPPvcDS4cPklRr/8X/5P/idf/NZhO/jGUOic4xOcXyouA6htDhewGg8ptXukCuFGwR0uwOkdUgDheN5ZCZHGc1Y5wySHNKc/lYPSYAQLpWqj5QZi3NzPHDvSTqtkM3Vy6jRNvnWVar5mOX5OlZb1GgbkWscJPNBk8OzB1H+PKrSQdfm2NBneb7fQ1Xq1PadeK0x85bFnYybUeAzzvWUTMTxmErNZ77Z5vvPvER3NCbLNIH0efDk/TQCn81BHwx40iXKDA3fxc1j4nSduZnDVD2fgTVIxyHVUJ1t8x//9I/5737xFwjbjb24eZtibm6Ohx9+mH379gGT8sXnP/95Tp06BewueLt+/TrHjh2bkovz58//SCyJ9/Cjxe2mFe+Gon2yKAkUE0B3jvwuhonBK62kZX1Eo9FgaWmJs2fPEsfxNEtRLtfsRiZeK4EtMjJZljEYDBgOh1MSkaYpxhjSNP2heN+ZnSh/rteCXbdaUx596zOMY6Tn0/FdNvoDPGkInZC1+hG2Ao+11WuEmaKysY10PQIvZLglWKgvY+tVRADuSFEZazJjEQj8oIKRPmMtaR45QCYcljxJtzeElku97qJ0mwWb0XcT2qrCOSVpNd9BjwpKNTAP3MtLZ69zNYd5PSYxAdJv8L//2X/iV375l5lpNsHNqEnQWYZXr6OdgHooiDTUOx2ur1niUUSrqvClIU3tZNh1GoIY4toelbhKmoV0tcKm6xjt0q4FfOKDhxDOmHh8HafaYbHTIAldesMhgjpznZR2q0IURdSqTeq1Do36LMNBxnj1Ej1vH1WdE7gZUo3xGZAs/8xrOnFvZdzJuHFGilpsyA0IA416h6Cyj6996yn+3+cvsLaxxXGvwYPvPcKBk1Xm9zso3WJeZnSDhMBUeFFLHpk5Tl8HjOQsG1Ef5eYsDxTewaOsVGeIE8mf//l/4lOf2YubtxuklLRaLb7whS/w2c9+dlpP/rM/+zPOnTt3W0JQdhJcXl4mDEOEEJw6dYosy37k9sR7eP0ot0vudLMs6yOK3wszqluVD4rXFHfoSqmbZn0YY8iybBonYRhOtyn2vRNHjx6l0+nwgx/8gCtXrkzbRwtzqlcrbxQEZKeFduGdUmg+jDFsb2+zurrKaDQiTVOybOJFY62dHq+MMpEo5osUx95pN38r7EomjBVY4RKnOX5QIRv3yAYRSJ9xs0IS1qjXZ6i7CwSNWbxag+efepIlJ2J23wFGI81QJ/STMUkyxOgEhEbgkKUJKonoLC2wENa4cvoixD6NZoehp3D9GlF3QIxLTIjSloHyCDvL+Cbk1Ol1MJvk/W0e/NCHOVCZ48LZFYwV1GWFv/irr/OpT36C2WYTnUVoYRDSoVatEDgurlNB6RGjrIuUDjb3cUSO9BKktSjPkCPpx4aREigTMh53UZtnsZUlZg7ch18TzNc8hn4VlYzJkomDIzqj2WhSm1/Er9doLVfY2u6yFhleuHSJathiqeKRdMfMzS6TGwNuANaix3d/a+idjJs4HRLblMzVOK5goDXffvZZfnD+PK4R3L+wnxnt8K73PEhlZhbjVhmOhkTmRtwYyyD38Jv78LKA7z99BnUpwlqN44WcOP4uTucaP/Jo+a29uHkbwvd9Pve5z/HZz34WmFz0V1ZW+PKXv8zly5dv+7riYu15HtVqFZhczJ944gmA6aJStjjew5uDYkEvFvvbzcIo9ArlbcpE41YoMgxSSmq12lSgudOSHZiSj8JTorzAwySWZmZm+MhHPsJ3v/tdrl69+kOzM4pSDDA1virKMcWxd7ZwlnUfWmtWVla4dOkS4/F4mlUp22cXxGWn78StPnsR37capX7Ttrd9Bsi1xVpBNE6x1sUYj3Sc4wcBM8GQeryC212j7TRQKuL6iiaOuohqC+FV2Uw2SEOXsRpiTIy1CoPGCnA9iSsFRmXEG9scbC/QJeNKb411O+SgdLjUHZCqHAtoHIzjU623eOn0Na5dvs6vf+pBWu+r84W/+gqND/wUicxRuUYYifJD/v7bj/NzP/PT+NLH8UCZSWp7pjmHrYZcH3YJmw5aVBjrgMD3qPgDDhxcplU7Qq1T5cLVC3zjm+dwKotsXDrH9SefYuHkoxxpzKPsAJ10aVVrZErit+pkccLIMXTaNRrtRXqDAYN4RBIbqtUWST4iGUXsW5Rcv36JzbbBdRzS3OLLnGz72m6n5K7AHY0bG2NQGCFwpUOaGba2BljpEgqJ7nX54Cc+iZmp8eLmKgfFPl7eHpHmehI31gHh44cN1q+sMOgOUL6HCiXbrsE4I6JaSOwbuq5FEfD3//w4P/uxnybYi5u7GsXI6U996lP80i/9Es1mEyEE3W6XL37xizz55JO73mmVtRGzs7NT4rBv377phb2429vDm4dyJqL4Kc7brcjEzm3LIsxb7bvITDQajZussYv4KJ4vCyvLXSDl95Cm6VRH8eCDDzIcDhmPxzfd+RdZLyHE9Pdi5setMgTlv4t9F8LKnRm0cnvoa21JLfwzit9vh13JRJImxGnGYDTCF4IgrDLOJC4BkXeIOO/gdPu4xJAH5FmKawXt/QcZG0tiDaN4zCjvYVWKVhkgsQiQEjcMGacp/dGQpcXDtE68g7m4TXf1ZRLfIW54uEIRotA6pu4JXnj6e2xuRdx/9Cj7FufYuLDGsROH6Uc9wmaIdQTIEKst9eYsQXOW0BN0Vy+xtG+BT3/6kzz3xPNsRtv0x1v0k5x3v/ejRKnHwYOHWb9yivb8Aar+ImEtpD1rOX5ilmHks3nxOYTx0MpD5SGu1IRehWqzTqvVxuSaYX+A5wmCwGV75RrD8Yhms07FkUTdVaquwuSajUHMww8/xPHFKt//3tPEuaYSKCp6Y7dTclfgTsYNWYqrcwLHoxnWOdCYp+aEXEtThEn51//9v+bRn/85Ljg9zl1/ichxiGohDpO4yXVM1Recee4JtrZGHJpbov6OJXp+xKnvfZ/35gepOHP4gSF3MkzsUG108BszhJ6gt3Z5L27uQkgpCYKAEydO8Ku/+qucPHmSPM/p9/v86Z/+KX/xF39Bt9vddR9FL79SiiiKaDabABw8eJCjR49y+fLlPffLNxGvNtZ7N9xK9FgufxRTP4t2ymq1Sq1Wm44rL4hk0dFhjKFer0/3V+yj2L74O0mS6euttczMzGA0v1n7AAAgAElEQVStne4jjuPpFNM8zxmNRje97yLLUWRLCm1GcdydHSw7Mxjlz13oOwpCvLPLpSAhYRji+/5NwtVbYVcykaoEbXNSlZJGY5oBaKNxhGTG+GRr6+z3XFyTEQ0iqiplYzDmQrSMLyqEno+TZdTcAEcLMHIyYFw4BPUWvSSlUq+zdM9xTLXJNaM4s36N8XhA23UxgUZKi9U5UsB41Mf3DPceX8I4AUME565dByG5/9576V96ATdwSXJDmBuW5mZpt2f5lc/8Es8//T3OvfAkX/rKf0EYTS4s/f4A4YUcWpqnP1aYtEvo+qxcucRMS+DHAb3uNqPuEJP7k7S345OnMdH6VbLDFfzZNl7oM05itje3WF1dJc8URw4eQqLwZY5DSr1aQ8UxzZpDrzsk1QFGW7JoxMzcPFpeJE22MKMLu52SuwJ3Mm5cDVJbZG556MT9vPudx+iPRtxzZIl3vf/neeRDP8koNJy9eJHRsE+n7iM8cARYneNIGI/7SJFx3/H95DQ5kp/kG8/9A//+t3+LyHXphgF/NRihKhrHlRzYt8Ds7Dy//Muf3oubuxiVSoVf//Vf55Of/CRpmnL+/Hn++I//mC996UtsbW296uuL1LKUkj/5kz/hZ3/2Z3nooYd4z3vew5e+9CU++MEPvmodeQ9vPdyqTHGrDEZBBAojqoJcvNqI8uK1O7tECoISBAGj0Wjq61CYW41GI8bjMfAKCdiZLShIT9GqWhynIBll/UahBbmdsBJe/7yPN1zmSLMRBpdURYTC4rqFI5yhlfaZCy3xeBM/DBnksBUlrA6HfPup7/CeE/dzsjJHQ/joWocX+mPQE9MepMc407j1BsrzuNjv4VpBd5hgtKaDxBsMkHZEjkdGSCYlkZA0FxdYWV/Huor+1etQb/LAOw/iKIsnBV6zQd1zWfJ86r7Dw+97iOsrq8wuLrG9scjZU88wt1TD9+tsn+tz/MRBLrz0PK1OE6UUmyvrjEdbbPrXqTYCojxj9dImJrUI2aW9PEO9npNsPEc8Oox2lxnEKf3uFlII5hYWyJUiziep+fb8PPMLs7xw6jnuOX4ClRo6CxqtPVRtkYVGhnQcpO/gac3W1rnXdXLfirijcTOIyLWh1W4xv7hAo1mns9jixMw9eAsd1tM+m1sj8nhMx1j8wQA30+giboQkQtJcmGe910WZmLl3PcR7jzfwpENTC2SlRmv5EP2W5ZCoUHUl733owb24uctx3333cezYMVZWVrh69Sq///u/z1e/+tXpXeFOX4lbQWtNpVLh85//PF/84hf5yle+Mr0bjuMYz/P2NBN3EYqFviAKnudNSxJlklBe+IvuDaXULb0rdu6/mOGxc+Etslxaa7a3txmPxyRJcpObpTEGYwxJkkyN0soopooWDpvFfgtiVJCLgljcaZHwbp0vu5OJPMdIi1EZriNQxmAxWAnjcJbTA5fewMVv1lhPHbLaMut2m8srz+OccVhYvpf6bIPt8Yg8UUg1qaULHFy/gvYCNkYxSRwhxxlJnFMLPGqygo+moiXWeljHR6GxQZ3GwkF0pc7m2hZHjx7F6SjUTIOrL1ykEtR4z4c+yMl7jvPSV/8a37P8wzf+jka7zcrKFebbVdqz87zznbNcvLROu9Vmc3WVtesXOXHiEEk8JokTrBqRZTHPPPE8GWDSFgcW9vHu+47h/uQ78aSPVBGzMyFprvBcBy8IiKOI7qjHvoVFGvU6flgnSWM2+gOO33c/lUoF4Spm5hu4IiT1Z9i+foonnv4BRudkShGGd38N9o7GTZxhMs3a9jZ/981vICsuP/MLHycRiu3eJjKK6PWHVOs+LSck0C4VoTHWxTg+mdDYsE5z/xF0rcHWRpfGu5fBzFBVltOnz7EWjTjxCz9H9fgC23/51wSu4R+/uRc3dzOMMXznO99hbW2NkydPcurUKU6fPn3TfILXgoI0AGxsbPDhD3/4pru5PSLx1kGZHJZLDcW/5Z8yeShrJsqZioJslLMRBfnYqVkojlHukijrG4oMwWAwIE1Ttre3ieOY0Wg0JQhFV0eWZWRZRpIkP3QcYwxKKcbjMdVqlTAMp4JMeGUoWRRFJElySzJRfE+vJSux07Z7V6Hqbjsa5ZJAxzhpRq0RYlwfZbZJpEaJiGb7ONbpowMHcodUD7my9gJIjyvjMX//0mmC4wt0KzF+nFFJcjKrcY3FWEtkBPMz+zjSaOC7LhiLKyV4DmObc3RjlQPVJlsmJdFDRBDSTapUqgGmf4742e8TJ5ZTlzaIWi1ay/s5/sjDXD1/gbDtEYY52eAi7YXjtI/M8f0nnmRxYQFnw7IQuMyeOMBzLzyPm44Znu1y7MgB3v3oAwxHA4Tr8fEP3MPKSo+nn3qepXnDoXlDtRKic8V4lFH3PepeiJWGoDNLq9lEWEutGhJ4PpnWGCNAQ299jc0kIktitjc3mVtcZmUz4m/+4THOX+7h5ILEVvHi5FVP8FsddzRukoxarMmEZKwS1k3GqjHMt+c5XsTNwo24cR1GVnFwa53leoMNmxLrIQQh20mVSj1An7uAeubb2MTyt6W42XfyOJtF3FT0Xty8TXDu3DnOnXsla/NashHlbXdejO/0GOg9/NehbEtdOEwC0w6GQgRZeEB4njclBOUSVbm7AyZ6gmq1OiUH5ZJCYZ9dkIoi01WtVqcTQsszMApNBMDm5iZRFDEajabPj8fjKbHIsow8z6dZkHKZoxy3SqkpMcmy7CZthbUWpdTUHKtMBnbO57gdlFJ4nkej0ZhOMX01v4ldn9W5IstiTD7RLEgHjNHkSuHIjHpN4gdV+mmMb3O2r17Gyw2EDYQXgtPCq3RwpIPy64ykBScDR+CIhGrcoxqNGfXHxHlOlCtGSYQWk/+0SRRzpNrhXC4ZG0HWHfC1v/lrxnGXtpsw3FqnVm3z1D9+h5ljx9i8coaH7jnG18+/SGgkrnCYX5jhI4++ny//l/9Ms51Qq/eZ7bQ5GDaIBmPu/Yl7uXb5HDof0vL7mP5Vkl6XucX9LM0v0PI9RptzXLjwMnPtOkcOHaZeryCFJo1HmDxGSlBZSq4UaRLR1TmulEgpGI/H6HzCOIUxWGNxHZ9L18d8+W++wWpvTGwDDBLHWix3f/31jsaNV2eEASfFd8CVt48bcyNu4nHE4WqHs3txs4c9/P8C5ZbPsjCzPAm0eLx4rCAa5WxFWSz5WlAQinImo1KpTDMNm5ub+L7PeDyeljWKBb7oqMjzfDpVtPi9cKfcSSZ2ktmibFL2uyhPBC1aQndaZb+a2ZqUknq9ThiGr5lA70omrDFkSYoxGoyeXOgEYHKETalVBV5uaLQbNOp1jNmkE3dIVQM/qLI/aOHnHpvK4WovJ0otOS7KCrb6fV54/gWagwQ/1iQWImHpJiOSJGG81WX9whVWUoitwfc8nvqXf6FrJGk6gvE6hxbb/Lv/8X9icO0Cv/jJj/PNb/8Da9EmHzgwx3i8yTgeI+Iup578Pg+/6x5c5ziVwEWN17ly8QzzYYPAgcW6S312P34tnFgWHz+OdQKSXBNWfY6feCfXr19nbWWddxw5zGynQb/fpbu9gSMtM+0WVc9BC4vMJVY4pFlCEkUIYxEGjLZEUUqmNNvdPn/5d//IIM4Y5yBDiTYGYy2au//O587HDeRiMnt0uz+4bdykacp4s8vKuYusZWIvbvawh7cxbjVCuyAHhYagSPsXGoji74JcFNqJImtR1h4UJGGnULNcDilaMQsyUq/XSdN0Wh7Z2toijmO2trYmNwg7DKqUUlPzq4JAFP8Wzxe4FZkok6Gdk0GL53e+rsjaFI8VnxOYfh/NZvOmfRb72g27kgmlUrLxCNcR6FwR+C65SjG6RmD2809ff45qQ+C4kiRusjC7QDvMEDICkZCub9G7EjEc9zGr1/CNQMgaRktOn7nKcy+cJbqySpAatJDknsS4N2pTGgIN41YL5VkcC2vXrpCLKhXPwYktly9d4/HvPcbP/9SjXDr1DBUVEa9e5l3HjpMkQyrNJaqNecapQQ8UjhSMsogtG+E7FWIz+eKO3PcA3bjH5qCP2uoyk3pYUgZRQm4sIDl48ACXL1zkwvlz5NmIJB4SRQMcDDpN0CrDdz3AUA1DrMqxSgOCOFZooB9p1rcGfPMf/5leUkdbH+FArjQIMBj02yCNesfjxgqEqGFyyYunJ3EzvnKdILF7cfM2ips97OH1oGymBPwQCSh+LxbbgkyUCUT577KGovCRKLxKdppiFX+Xh3cV7yPLMjzPw1pLs9nk+vXrDAYDYLKQF6Si+CmyC0U7aNlUqkwCymW3nQShyEYU5KR4/c4yXUEMysSjbIZVZFaK/RWlonLJ6HbYlUzE0Zho1EeKSeq602rhSEGepVy/+jyD7jkMPdJsiBo3UPmIVK+jcbCORFqJBBzXZXJ5tLhaYEaK1fPXyD1wpIfyAXHDEtRO3mwqLIm0aEdgHQeswcOgtcJKgUEiRIXHHnuGTr3Chz/2Qao1h8V6jUZYIUktcwvzePUF4vUeaZox7PboNOssdA5Q9Txco3GEYXWQs7EdU2/Ocf36Ctc3r1CvN8lVRq0WUq0GNBshM50641GPjTVBvRYw25mlEvg4ErI0wRpNGHhUw3CSRtIOqdK4QZXVjQHPvvQyz51+mXHioy1oq7HmxskVAmvh7dBldifjxgAI8IzAjDPWLlxFewKJj/JvsGXBXty8DeJmD3t4PdhpJ10shjtLHOWSRpGRKGciyu2cu5VLimOWF9WCNJTtrgsSU3SDlEeRFwt02ZWy0GEUZCDP86l4cqfAdzcyUW4nLcjA7QSYBWEpj0t3HIcwDG+ZiSi+jzfsM5FEI9IoQjI5+Pr6Go6U5Lni+eceR5gOXhDhyAyhGkihcOwYSxODQXgujgbSDO1LrGchU4RW4htJlguwFmMNYPGswLFykibHooTFxgrPCIQWGARKQC4EThgirUucO2QbW2itOHT4APvnZrh2+jyp22GQ+xxa2I8dxfRGm9SblvmjTRaby4zjiMFowMbmJlcvXaFRa3BgaYH5WcV4EOFZi7Sa0CoWmi2c2RZL83NYYxCCyQRLR5LnGVE06Q12JGhjMRYMEuOE5Epz7vIVnn7hAi9eXCHWLpl2kVZhjcFaA1ZgkRMbau7+aYR3Mm5yX2BdIFWERuJpiWKygE7ixuzFzdskbvawh9eDna2cZf+Ind0bxfNlMWbZoKogCGUSslNPAdxkklVkPYpSR/n5omuoGF1fFoaWiURBIop20EKAeTsyUe4U2elsWc5q5Hl+U9dGWWhalDiK15c7VeDm0klBKIrv5Q1nJpJRlzwbI7BkKqM/GOBIB60NwlbwHRcyf3IhEw7KgpUVHCtwALQFYwGB1JMLv9E5uXUgNwjrAIWiVqOsQFuLEC44Dq7jIPBx3QDZqCKdgDCoYf2AsBIgbYDwM965tEQy3sZELu88+l6uXb5ONQzR0pKrPs2qy0aWcPzeY/iuYjTcZhSNMblm9do1HMcnTgyr611mGlX2z3UIAx+VJlhj8JwAKyR+NcD3QozSeJ6DzlPIDMYGVOt1GvUKns2RSLSscO7SJk8+fYrnT51he5iSKoHSYK2DNjnWCqwVYG8wTWt5lbLUXYE3GjfylnEDWI3RCmUdhJUIeyNs7aTlVFn24uZtEDd72MPrQTlDUNY3FCgW0qK8ATe3dpZLIGX77bJ+4FbEojzjovgp9AUFuSgEmL7vT1q7hZg+VhCCstgyTVOSJEEpNf272KaM8mt3tniWMxNlH5WyALPcyVGYX4VhSBiG0++oGGhXEKNypmK3jo7dBZgqQmcJYBDIieI0U1ghEJ6HUhFoCMMabmVijS3wEekIjEDkEg1YQGgJWqKNT8JE4i9xcT0fP/CRnofjejheiOsGOG6A6/kEgYcjBcK9sTi4Po7rE4QhsZbo0Qr98Qo1v8KRxXmuXTxHveHTqLYYDFcZb12l7TXwlWH98irtdoDr5gghaNarHDp0kJcvr5Fpy0hpqqlDvRYgpENYa6Hz4q7RgNC4bohf9cnzFCNyAlnBWIlxKvSjHJIRUnq8eLHLt/7lWZ559gW0AYtLokCbScpdILBWTn64ccKNRcq7P1/9XxM39nZxYwNSBIhX4sbbi5u3VdzsYQ+vB+W0e3nBk1JOMw9lklGk6osFeKeHQvH6stiyuOMvti0cKIvMQJZl0wxDcbdfzMUoHiu0GXEc36SDKBb1JEmmkz2BaamjeK8FClJQ7KOcYSiXLXZr+ywyIYVYtNFoUK/XpyShPEa9KAMVeolXc//cfWqoNqRJgiMdQs9laWmRsFYnqDcI6zNIBL7jEVarhPU6F65c4dv//E9M3ooA6yCEi+t4OJ6PcANwPTzPx/F8HM8jrFTwaw38Wg3pBkjHRUoXxw1ASibNb5O7L4slUworLJlOSLXG91zyJGQ0dDCZxzjeoh1KQmmpz7QRUtOoT/wIWs0WnZkqeSbwXZdKtUql1WY7UfTGKa3FBa68eJb5xQNk+cSBLEsVudZorQBL1rA4rkSgMeTEo5jNrSHr3cv0Bz3IIrJc8MzZNS5f6RInPnmuEVJg8dDGoo1BWgkFa0RgrZnccXL332Luxc1e3OxhDz9OFPNTCv1CuYsjCAKUUhw6dIjl5WWCIHhN+yyyAMXI+mLxLhb5ogxREI6CVBQkopizcSvXzGJfO8lBcdzbtW8WpKFMLIrHyoSmPHxsZ2mi0WgwNzfH7Ozs1PSq0HiUu1nKVty3Il47sSuZEECWZjhScujQQU6++37as3PMLCwwO9PBc1wa9SZWCPA8zl+5zJXLZ+lvZSAk0gnwgxp+UCUMK3i+h/ScyUXf83A9H8d1J3eX/kQ9mxsLQuJ6HiBQqUKrHCEseZ6h8hRjJidQSfAARIWXL28TDb5PvaZ45z3LOLZPvenQbNcYDLss7JvFiJz1zRWkrlOtVhiMRgjPZ9/yPrK1Tc5eOkuytcZGd4NMTYRxSaoY9EZsbmzTbrZpzyhUnpIbjbGGLNZsdRMuXF1lY3ONqi/Y7I7ZjF1y2UD6Bj+wSAccKTFaY6zGKlBZ9koQTeQjb4slYS9u9uJmD3v4UaMwkyoGuBVdEsW0zfJCbq2l3+8DcOTIkWlpolwmKDIP5cFf8Eq5pPi32F+ZABQLeJFVAKbDu4wxU1vuYtvieEWpoUCRnSi/nwJl4ebO45bfX/GeiwxE4X9RlGuOHDnCkSNHqFQq02MUn6tAsW1BTm41snwndiUT0WiM1RrXcTj+jmPMdjoIx6G3vc3G5fNsbmxhtKHSaFDrtNka9anXa7i1o0jHQzr+jdSzhxcEeNLiOhYpHZAOQjqTtLUwSKvQOsdqjRFgTTq5qzQu2uRICXmeorPkxqJg0MaSYCBXDHA4c/YMtZrkB+dWaYSCj/7U+3CqLdbX1jBGstSe4erVayT9bfYvLTIejQgbdZRwWFqY51z/PIsH5ximA4zRBH5I4NbIexFeUMfxayS5YBQZhuOU7e6AzY0+g0FGbGAcS7I0J7c+0q0gjMbzQFgL1uA4Ei+sAIY8M+gwBECpHGvNlF3e7diLm7242cMeftQoFszRaESv17ulJ0Ohc1BKcf36dWq1GvPz89NUfhk753MUKC/eO49dEI5yVqBY8AudhFIKx3GmTpLF9kUpoxjaVZAR3/dvMqEqo+z9sJPQFM8Xz4VhSLvdptFoUKvV6Pf7jEYj2u029Xp9SorK4tICO7+fYgz6bteZ3e20B0OqQUCexlw4f44rly4QNlp05uZZmOlQb86h8hy3UkEGdYQybPbGvPP4Eo7rTS7qctK6J6VEYpFi0vInpDNJ0wJoi9YGlWuyXE1rwdqaSdsbhlxrlMoQxkCu0blC5AbpgnU117tbhDNLbA3GdDdCAhsTPLv1/7H35sGSJOdh3+/LzKrq7nfPvXPsYheL3QVAgFgAJACK1BIkaMs6gjRlUUHLClLWYdFk0KGQbVKhMAXKlCiRtkVbcgQk2YYkMKwQRYhSiBZ1QAQkiqdIYrnAggD2PuZ8b+adfVRVHv4jq/rV9L73Znfmze7ObP4mOrpfdx1ZVd9kfvldifrCRcY7E7RoHnroDFmW8dD9Z9ncuIZ3DuUC62uXWXGKh+57G4sL86ytrbIwt8DFC6t46zl/cZtyMuHKtW22hyMmtWd7aBlNoBzZ6Bs3miA5ta3o5QXSn6MODhGwVY0WRXAeLZrgPUa3Pjw9NY1VVRzs7nSS3CS5SSRuN9Za1tfXp3EHe9FaINrBvizL6exfKTVdfnu2OFWXbjZE+3frXmgH4Nbd0c3OaGf23cyJNhi0Df7sZoQURcHc3ByTyWRPBaZtZ6vwtNcGTJWCdrn05eVlVlZWWFxcpNdMPrz3jEajqYXjILdFt5DVbCGw/Ti4zsTmBhiNG5c88eSXURIwecHpc/fyHd/+nRw5cpTe3Bwqzwi54eR4xNXtknLsUG2nLzE4TInHN8FjzllcXcVUOB8I3oP3eN8U8bA11tkmf76O6aPONZ1prB0ggDIKdKByjqtbQ86dPU5/cR5nNXU94re/eJHJZAuDYn5Q8OyLF/jQh9+Lqy/y3FPPoMWQ5xl1XTF+4jlMr2CwcIyd4Q5LS8tcOH+FqoSN9R28syhtKcsxWg9AzZEVC8wvm6mpaLRdMRlXzM/Ps7iwgsVRVhNKrVCxuhBGZ+A9dQjx2oNH63hfQKNVdtAjuSNIcpPkJpG43YxGI7a3t6cFprq0qZntgN4OhpPJZOoO2WtA3Svgcda0363TMJtq2Y1X6LpP2vc20LGqqusyI9q1MLIswzk3VSi6wZ7tdXUXJmvrXLQuCK01J0+e5MyZM/T7/WmQqrWWPM/J83yqWB1Etxx3914cxMEVMLe3qCFmsIdostGV54H+HJPxmOeee465xQWWjh1hYWWJo0sLfMPXf4Bf/80vMB5XmGwO5wMEi3M1tQfrd+uHxwfgqasS7+rY4Ys0PmFHbLtHkOgTFgEEUbGoUVAOGwIBTW+wRFlajMpQyuILRfA9Mg+TyQ45sLRylMWj93D54gX+1WcfJzcDThw7Sl4I1g7xAqP6IsZo5uev4lxAqwJHgegeO6NrOOs4cXSRoneEoBUeh3cesZ5chJF3WGfpIfRNQaE0Lutja9v40OLg5uo6BglphSZgJCMYzWg0OvCB3QkkuUlyk0jcbmbXrujSnVl3AyjX19dZXV3l1KlT07TRlllrQFdJ2EuhaLM82m3bwMjuNrCbUtmNf+jWrmjb0VU+2liQ1q0xe7y9VvNsM0d6vd40mLK9D21GiTFm6hZtl1bf6951YzC68RkHLWl+cGoooLVqqoXlLKgVjh8/zrve8zVsbW4ymJ9jcX6OhaKHcZ56Y5t6YwtlJ3gbGFmwThA8IbhmKSLBh4B3TWpL8ARv8a6mtFWjAXlEFNKYrZtifzjnCTpqmT4EdAgxBUgpCm2QAKICQXlcXUEIaGMY9AeIBFaOHmNSWj7zi/+Bjc0x3paMRjXHjy9hMsvc3Dy5yzBa4SuPs44gGqVy8l7OpDFLOesYD4c4BWIC3nrEghLB+6ZoSFXhytj519YCAdcIf57l5EqQEFAhgFKIkXhcd/ACLHcCSW6S3CQSt5s2KHCvAbFVMrqFlkIIbG9v88wzz9Dv95mbm5u6OdrfZ8tX76UkwG6MxGxZ7f1oFZLZtS5m01DbYwOvWHTsRq6J2bLg7TXA7qqoxpgDLRNdJal123RrVBx0jQcqE+94xzvIipx+r0+v32NxYYHFpSUG8/OsX7rMlbVVnvrKVyknE6qyoq4qRuMRE/EcPfN2SukjWR+UoEIsWOWsxblomp5W1QoOQpx5xUo8QPCoZsY5LSoSwNqagCfPNMpapLbYZr8ggsUhBrKg0dqgRWFrw3Bng+eefp6XXniBl168gM4K8tygjaEsa6q6Is88JgjaBYwWsqxgMraNadlSVxWurplMRnjnqINHGY8RjZEcCFjrKcsJbK2TK4N3jqquKYocIzGFr5pMEIlBLr6OPn3vPXVVx0HiDifJTZKbROJ2041bmJ0xd2MoZgdgay3Hjh2bWida9ouNOOjc3VoUs3TP2y1w1bVodOm6R7oFtVolYi93zuzxuwW4urRZI22cSDfls0tbWKu1iLSKzWy2yF4cqEwcP3Gc4c6Qy5cvU1UVWivaXDRXVdi6xldNCp6PBX0DgWJxwMrxc0ivj3UWVzrwNeIdITTBKUBAY21oTNMBLRIHAmKtgmicBryfLj7g2wVQtCYnzlInZQkCJstQWjGYmwNt0MqgRGOVwUjA2jGT4YRz974dW1uCF7QECA6tNKNxhQkhphPWhl5vjkxrnFcoUWglBIF+kZPnS+xMRmxtrTGxjtwMEO0p65qe8/i6ZFxPyDJDYTS9LBb8CHlgPB5TVSXbG5tTP5YygvT6Bz2OO4YkN0luEonbTQiBqkmTnjXB76cEiAj9fp+dnR3W19dfUf+hVSba4Mi9lIRuNkW35sPseWercbYDeNfi0a0p0X5urQitstK6MA4sGNVxo7TbtZaT9jhtymx3vZBuew9a9rxVQG66aNWTn3+CysaI8eBDk+veFMNQghJB05hdERQKJKAnFls7fO4ICMpbfDXB+Zqp4ieC87t1xgPgGnOvUtGkLc1Di6Zr8CFgXVPBi0AlDq3iOQF8XYMTKlEoPF48WjK89XgHEjRFPmDQW8LWVVxbvi5jUB8B8QrrHeCxwVLVjsz0MaaH1golAe8s29vbaOWZ2IrganpZRn/QR2WKaxuC9xYtHqsC1lkqWzEcD9FKo3Sb2gNBPKiAx1HVDmtrtD7wkdwRvKnkRmKwZpKbROLuYjKZMBqNpjEGNwoQhN3AzNFoNFXIW/Zyc+zl4jjI3H9QLYbuIN1u17pZuunds5kl3ePtN5h3Yytai0I3o6TNMukev1XEuuxVLKu7/14ptS0H9kBb6xvxxBCD10JAPEZddmEAACAASURBVHGS2VykIw4I8WsPIa7wOB6XeDUGbTCuhnqCd54gChFFEKazxgCoxnQdQiC4ZklXEVxj5g6Nn1yJomirdkk0/2S5xogm1A4lgngXV1QKHoJv1oQQRHT0T4dYzjsvcnpFTlWWlJMJSmmUsYTQmIt0XLVyUpWM6zFlOQRnsVWJFY31luAt1jl23DaSGawL2Lpm4ofUQYEIWkc/lRAHuKLfo8gLvHgcHm8rRCn684NYS+EOJ8nNPnJTl1iS3CQSh0Hr7jzI/D9LayFoFZG9alO0dGfv3QH9oCDEbgzGLLPKRPe7g1wIr/bauueJFuFX9gltHEZrbZg9dnftkL2+3+uY02Mf1KgQ3c1AXD4cid8pFdcFiBu12zT+lwAeUMGhXUXtSsbVBO/q2CnrLJY59rvlPqNmKWgtOBfLH3vvGE0qQvDTc4kI/V6PLIumn8L0qG2NBIerYwcdIPrVTYbzNbUv4wDT04gUuND4qimwttoN8BOwtcWRgRi8CErnKG0IdU01nlCXDiU5lQtkmcVocCFrCinFQVGT4Z2mFhj0+mSZwZgMpYTRaMxwuMNke4gaBBbn5lDaMKlLSluzPR7h7wLfd5KbfeTGJrlJJA6LEMI04HCvGXbLbEBi15zfXdK7G9MAXGft6B6va5mYXUmzXauj3b/LXspEN+1zr4F81rXQ7f/a37urn7bbtG3sBnuGJvC8rTex16Jd+ykTrRXl5hf6oo00ZXcQkFgwKK7puHuidkCAxh1ha5StCUrQRpPlBhC8uz7QpTWrtFGjsyYibeJxW99RZWt88BQFOCVkJkPQBB9iIZ+yIiimQS7GaERrkMbEjka84JslnwVpZqk5Wmms380tdj5gXYV3MapeiWputsO5cXyAogGFDxZczDawVgDLcLiD0QalJKYyNlpwURR457h6bR2TGfpzc3Hltn7/7hgUukE9TblnJMYNTM0TXaK5IcnNW11uEonXQBukuN9vB+0Xi71db0Vozfnt/7f9jt21VMxuM5lMpr/leX7doH9QGuusIjNr/ZhVmNpzdMtmd6/jIOtJ1w2y132atUB0FZ/9rgFuoEzszx4PqtUuBIIEyqpEROMFPD6m3vlmBtkoH3stIdsu0DL1GUlcXlkbg27M2dO0Fe+pfY2WgClyJuMRQQuChqpZwa25+KzIyfK8Kb0M4gPlJK5smRlDURi8dmgfmExKrK13A1SCR4VYvyBWX4wm6EbLmrY1WsE1InEZVzxoFa8x4Ci0RmmN0Qbrm4BAApm15KZoBp23aFnkJDdJbhKJQ6IdDEXkuloS7Xd1XU8LQ7W0NRVmZ/+zg+hsxkeX7t/ddTa6bYK9XSWzwY83Ugj2KqXdHmf23N39nHP7WhlmK3vOtu+mLRP7E2eSr/iq+RBEsM6hnIsFerxDB9A6m5qOumvDd7W81g/WLndqjEJpdd0NaKt+oTUmMzhbERAGC/PUVcVwZwvtmBbryLIMT6xDEAXLM5mMCI3tZTQaRXM5irKZ7dZ1PTWlBw/4WJ3RZBlCnKFCXP4ZBUoJosBo3ZjBQ5yR+7jKXByQ4oMaDocE2c0bts7BVpx5qgN8Unc3SW6S3CQSt043eHHWDTFr2ewO2LNFmrpug70CMeHgAf+gWXz3t70G7oMG9Za2XbMD/EEWhG7WyX71OfarZ3FLC33NNgDYswHXbUvAE8iLgqAVNoQYNO9DE4W+m3LTLaTRfeitNpllGdY1KSkiDPr9GHTXFB+q6posM3EZVYTgXXwfzKHrplZ5s2paWVdoY6iam28yg6084/FwOkv0zsYsgk5Qj1IaUQrRCqPidjEX12Myg0hTSCmAuN0BLmqG7eCx67Nq33WW0cvjIGlrG+sPTEqKpo763UB3wJ+6wfYUn+hES3KT5CaReLVora+rItmlO2h2B+R2ojC7ImdLV5nYKzjxRgNql9kBfb8Bvlv3AaJ7pP37RpVt91I2WtfvXgpB6xYZj8f0er09x3Ot9XWWjfY+tGml+/GqLRMh7LrCw3VWCUFkd4wQEUye4ZpUQC0aF2Kn511ADNNZYmt+6mqL7cW2FxOIGpTJsjgrbYVBawa9HploJqMxrrYxAt82VRGr+OCzoog1youMdk2D0ahkvDOE4DDaTOsVOGtxRJN5N/jG2hrnPcHHgSbv96IW6zzBeUJzfaJ266h779FZRmZ0c60G52OJZ+cc+aCPcxYVoMhzgg9Uk5LJ8O4ti7zXf8EkN0luEolbZXbgnLUuzDJrlWj32S/ts7UC7OXW2E+5OMhqMduW2f26dSle6zHaQlddd3C3ve21HJR5Mluzoy3vvZ/7BG7azdFBaFdAIPi4THRvMIjBJG6CxDkfmVZkWY7Ki6nm1a20VZblNBK2WxLUB4cxux10uwa7EgHrKasJtoxBL3VZxu28BdRUc3XO4cvAaDImAHbSmJN9AGmFISBKUWQxj7bN0Y1mdcE7jbc2BgsGFQcBUYgSMKCCQqlACJq6jmY2rXRTF8HhKz+duWo0kzJWaMu0jrPLcYnrlC6960lyk+QmkbhNzMZJdOkO1PvVWdhPodgrTfSwlYm277lRjEKXblZI23/tdX1t/1jfoM/YKwD0Rn3MgS3d1emksUpEf24bMSHEdL7aBdCCygt0UYDqAxpDtGYoHWdsShShqhiXE0RrdJFRe4d3Fh8conwsaGQComLuYKYMApjGhK1DwE8m09liXVu8d7HzbX09olEEQnDsbK3jfUCb5vwhEGqN1oraO1wQMtPUKtAOaIUjFgiqa4ezFpzDKB2v2Qa0itUNg4CT5gE5iw8x0G5S1ZRVjVYarRSu8YFrHc3fWhTOWkpnp5kBiNwVg4K0iT+76kIjN7vy45EkN0luEombpp0xV1VFnudTd0G3vHZb8bKlHWBnZ9itC3U/JaKbPdH9+2ZjJg6i27ZXe4zuiqSwW0diNmZkdj2R/eied78Mk1kOVnt2iwXQuK8RCXGW5X30BxuN7uUxja/oY7IcJU2Vw/bimsbHSogxpkJrHasfaoUY0xQJikEu1jmwlrwoyEQ3q6AZgg9xFuai9jgej6euF934uNubaKvJ1M+slMI7jwtN+WUgeMFogzFxaevaVtNiRV3z+bQUqVL40CwJS0xhDAG0itcYgo+pjd5hgycTRS/vxUGkKYUavI+rVYaArx2B3YBCYwxzCwsHPo47kTi8NvUmktwkuUkkDpFuvBTsuj67sQSzisN+g+JsvMR+CsOrHeBfy3b71cV4tbQlt/f6/kZxjvu1afbvg1ZphRvVmbiuDQFRjRlWK0RMrG6odAw2a1PehOb9+iVSY3rc7sO2dd0svgTOuxgEp+L67NLsF6zDG2E8GVNOmiJFEue7cSGX0Mw0d7VKYwxtcY5u4BowneF5SzMAxRlqlhlEaWx9fapNG9AXWv9bEyXsvb8ulrCuHd7bOCWf+ubVdYNLOzhNYwRU1NDaIMUQwnU5yncyYeavNrr6puSGJDdvFblJJG6VNnX81SgMe/3WVSD2UyYOOkaXV6tMHJRe+mpp+6xX+/2N2Kvte8WZdLmxMtEGV4qa+oJRCoKPszsleCF21iKIKJQCayu8t1MzSwixQqF0Ov6yqqIpuOnolaipadyYDK1UXEmx+dY30flxTYe4tkJoIkPbDrv1pTtnd1P0QsA5j7UurpVAU5o5BHxwjMclLjgIAaP0NNq0m2ITnCMEj27TEHVMzfMurj7pQ1xUSilBK9N09DGq3xiD7QTVeO9jREDzoJ1zTMaTfZ/DncZbVW5aRSHJTSJx+2njCtpgw/b/XLfwFLwy4+HVxDJ0YxBmlYdXq0zcjFIwu//sJGW/VNFu5txBzLpCusffLz6jG0dy05aJaKbdnSmK2l3eVCSuBNmm3IkWUIILDldOYrEgrYFoZnHex0HGO6qqjKs7trOuJhUv/uwQL9TOU3qPp52ZSRP5rsBD6Uq8dzFdb2bdd5HY1q4JTOs4YIkovHX4EBdmgoDWQqZznHUQojsn+FhsCJpZcRMwKE16ofee4KN/XClBi0Eb1TygZiW5TsevOrNuay2utlNTtXNuJkPmzuatKjfBRyUjyU0icfsZDoeMRqNXVI+c5aCaCwcN+K27clb5eLUD983GTNxMHMZ0wjaD6vS9cPDaId3fugt6dQNBb7polWgVO9dpZyvTzjbg48ywjUwnltEOztEmj3ZNRYEASuGJq0hqFLkxcZnopjpgWxK41Zi01tCslkgTuFfWNXFiuxtw0kb3a3aLcehmptlqrSHs+qZiWp5HG6HXK7DWNybogCCE0KzOOBWa3ToI7cwVoslZZwYRjbNxlcfpAKIVOs5lgV3tePpws4zRcLR7nfCqBPROIMlNkptE4vWiLSj1arMnWm60T2thnP3/NVtO+6Cy2132syrMFs7qBo929zmo